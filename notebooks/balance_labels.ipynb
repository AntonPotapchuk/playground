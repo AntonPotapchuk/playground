{
 "cells": [
  {
   "cell_type": "code",
   "execution_count": 2,
   "metadata": {
    "collapsed": false
   },
   "outputs": [
    {
     "name": "stdout",
     "output_type": "stream",
     "text": [
      "Import error! You will not be able to render --> Cannot connect to \"None\"\n",
      "[0.36810501 0.16168979 0.14268638 0.1558132  0.1535856  0.01812002]\n"
     ]
    }
   ],
   "source": [
    "import numpy as np\n",
    "from pommerman import constants\n",
    "from scipy.stats import describe\n",
    "# from matplotlib import pyplot as plt\n",
    "# keep all outputs printed\n",
    "from IPython.core.interactiveshell import InteractiveShell\n",
    "InteractiveShell.ast_node_interactivity = \"all\"\n",
    "\n",
    "labels = np.load('labels.npy')\n",
    "labels.shape\n",
    "\n",
    "print(np.sum(labels, axis=0) / len(labels)) # proportion of labels"
   ]
  },
  {
   "cell_type": "code",
   "execution_count": 2,
   "metadata": {
    "collapsed": false
   },
   "outputs": [
    {
     "data": {
      "text/plain": [
       "array([462528., 203165., 179287., 195781., 192982.,  22768.],\n",
       "      dtype=float32)"
      ]
     },
     "execution_count": 2,
     "metadata": {},
     "output_type": "execute_result"
    },
    {
     "data": {
      "text/plain": [
       "(55089, 125816, 122752, 128901, 129983, 22766)"
      ]
     },
     "execution_count": 2,
     "metadata": {},
     "output_type": "execute_result"
    },
    {
     "name": "stdout",
     "output_type": "stream",
     "text": [
      "fraction of non-consequetive actions to the total action of same type: \n"
     ]
    },
    {
     "data": {
      "text/plain": [
       "0.1191041407222914"
      ]
     },
     "execution_count": 2,
     "metadata": {},
     "output_type": "execute_result"
    },
    {
     "data": {
      "text/plain": [
       "0.6192798956513179"
      ]
     },
     "execution_count": 2,
     "metadata": {},
     "output_type": "execute_result"
    },
    {
     "data": {
      "text/plain": [
       "0.6846675999933068"
      ]
     },
     "execution_count": 2,
     "metadata": {},
     "output_type": "execute_result"
    },
    {
     "data": {
      "text/plain": [
       "0.65839381758189"
      ]
     },
     "execution_count": 2,
     "metadata": {},
     "output_type": "execute_result"
    },
    {
     "data": {
      "text/plain": [
       "0.6735498647542257"
      ]
     },
     "execution_count": 2,
     "metadata": {},
     "output_type": "execute_result"
    },
    {
     "data": {
      "text/plain": [
       "0.9999121574139143"
      ]
     },
     "execution_count": 2,
     "metadata": {},
     "output_type": "execute_result"
    },
    {
     "data": {
      "text/plain": [
       "DescribeResult(nobs=55089, minmax=(0, 5001), mean=7.396013723247835, variance=6621.879802581573, skewness=28.560857563584648, kurtosis=955.164186817008)"
      ]
     },
     "execution_count": 2,
     "metadata": {},
     "output_type": "execute_result"
    },
    {
     "data": {
      "text/plain": [
       "DescribeResult(nobs=125816, minmax=(0, 2348), mean=0.6147787244865518, variance=231.51467218089806, skewness=142.94538599870938, kurtosis=20755.195644072355)"
      ]
     },
     "execution_count": 2,
     "metadata": {},
     "output_type": "execute_result"
    },
    {
     "data": {
      "text/plain": [
       "DescribeResult(nobs=122752, minmax=(0, 77), mean=0.4605627606882169, variance=1.089938854465476, skewness=10.731386715179307, kurtosis=453.64226485584123)"
      ]
     },
     "execution_count": 2,
     "metadata": {},
     "output_type": "execute_result"
    },
    {
     "data": {
      "text/plain": [
       "DescribeResult(nobs=128901, minmax=(0, 2258), mean=0.5188477979224366, variance=115.88275763595766, skewness=198.65357676358533, kurtosis=40470.67031644485)"
      ]
     },
     "execution_count": 2,
     "metadata": {},
     "output_type": "execute_result"
    },
    {
     "data": {
      "text/plain": [
       "DescribeResult(nobs=129983, minmax=(0, 2107), mean=0.4846710723710024, variance=35.77240854204198, skewness=336.5572744085881, kurtosis=118390.12801766061)"
      ]
     },
     "execution_count": 2,
     "metadata": {},
     "output_type": "execute_result"
    },
    {
     "data": {
      "text/plain": [
       "DescribeResult(nobs=22766, minmax=(0, 1), mean=8.785030308354564e-05, variance=8.784644407616218e-05, skewness=106.67708323655101, kurtosis=11378.00008785804)"
      ]
     },
     "execution_count": 2,
     "metadata": {},
     "output_type": "execute_result"
    }
   ],
   "source": [
    "# find how long each consequtive action took long\n",
    "stop_action = (1,0,0,0,0,0)\n",
    "up_action = (0,1,0,0,0,0)\n",
    "down_action = (0,0,1,0,0,0)\n",
    "left_action = (0,0,0,1,0,0)\n",
    "right_action = (0,0,0,0,1,0)\n",
    "bomb_action = (0,0,0,0,0,1)\n",
    "\n",
    "def find_nonconseq_acts(event, labels): # our events are actions indeed\n",
    "    matching_indices = np.where((labels == event).all(axis=1))[0]\n",
    "    # for debugging purposes:\n",
    "    # bound=30\n",
    "    # print(matching_indices[:bound])\n",
    "    #\n",
    "    starts = []\n",
    "    ends = []\n",
    "    count =0\n",
    "    prev_idx = -float('inf')\n",
    "    for i, m in enumerate(matching_indices):\n",
    "        if m-1 != prev_idx: # new stop action\n",
    "            count += 1 # \n",
    "            starts.append(matching_indices[i]) # or just 'm'\n",
    "            if prev_idx != -float('inf'):\n",
    "                ends.append(matching_indices[i-1]) # add the end point of the previous action (i.e. stop action)\n",
    "        prev_idx=m\n",
    "        # if i >= bound: # for debug purpose\n",
    "        # break\n",
    "    ends.append(matching_indices[i]) # because last m is skipped from the above logic\n",
    "    #\n",
    "    # for debugging purposes:\n",
    "    #print(starts[-10:])\n",
    "    #print(ends[-10:])\n",
    "    #print(starts[:10])\n",
    "    #print(ends[:10])\n",
    "    #print(count) # number of non-consequative stops\n",
    "    #print(len(starts)) # starts length\n",
    "    #print(len(ends)) # ends length\n",
    "    assert len(ends) == len(starts) # nr starts and ends must match up\n",
    "    #\n",
    "    event_length = [] # length of steps that consequetive stop action executed\n",
    "    for i in range(count):\n",
    "        event_length.append(ends[i]-starts[i])\n",
    "    return matching_indices, count, starts, ends, np.array(event_length)\n",
    "    \n",
    "\n",
    "_, count1, starts1, ends1, stop_length = find_nonconseq_acts(stop_action, labels)\n",
    "_, count2, starts2, ends2, up_length = find_nonconseq_acts(up_action, labels)\n",
    "_, count3, starts3, ends3, down_length = find_nonconseq_acts(down_action, labels)\n",
    "_, count4, starts4, ends4, left_length = find_nonconseq_acts(left_action, labels)\n",
    "_, count5, starts5, ends5, right_length = find_nonconseq_acts(right_action, labels)\n",
    "_, count6, starts6, ends6, bomb_length = find_nonconseq_acts(bomb_action, labels)\n",
    "\n",
    "np.sum(labels, axis=0)\n",
    "count1, count2, count3, count4, count5, count6\n",
    "print(\"fraction of non-consequetive actions to the total action of same type: \")\n",
    "count1/np.sum(labels, axis=0)[0]\n",
    "count2/np.sum(labels, axis=0)[1]\n",
    "count3/np.sum(labels, axis=0)[2]\n",
    "count4/np.sum(labels, axis=0)[3]\n",
    "count5/np.sum(labels, axis=0)[4]\n",
    "count6/np.sum(labels, axis=0)[5]\n",
    "\n",
    "# get further insight:\n",
    "describe(stop_length)\n",
    "describe(up_length)\n",
    "describe(down_length)\n",
    "describe(left_length)\n",
    "describe(right_length)\n",
    "describe(bomb_length)"
   ]
  },
  {
   "cell_type": "code",
   "execution_count": 3,
   "metadata": {
    "collapsed": true,
    "scrolled": false
   },
   "outputs": [],
   "source": [
    "# beg = 20\n",
    "# end = 80\n",
    "# plt.figure(figsize=(17,7))\n",
    "# plt.bar(range(beg,end), stop_length[beg:end])\n",
    "# plt.bar(range(beg,end), down_length[beg:end])\n",
    "# plt.bar(range(beg,end), left_length[beg:end])\n",
    "# plt.bar(range(beg,end), right_length[beg:end])\n",
    "# plt.bar(range(beg,end), bomb_length[beg:end])\n",
    "# plt.legend(['stop', 'up', 'down', 'left', 'right', 'bomb'])\n",
    "# plt.show()"
   ]
  },
  {
   "cell_type": "code",
   "execution_count": 4,
   "metadata": {
    "collapsed": false,
    "scrolled": true
   },
   "outputs": [
    {
     "data": {
      "text/plain": [
       "[<matplotlib.lines.Line2D at 0x7f6c20316278>]"
      ]
     },
     "execution_count": 4,
     "metadata": {},
     "output_type": "execute_result"
    },
    {
     "data": {
      "image/png": "[encoded data removed]",
      "text/plain": [
       "<matplotlib.figure.Figure at 0x7f6c23baffd0>"
      ]
     },
     "metadata": {},
     "output_type": "display_data"
    },
    {
     "data": {
      "text/plain": [
       "[<matplotlib.lines.Line2D at 0x7f6c1e2a6780>]"
      ]
     },
     "execution_count": 4,
     "metadata": {},
     "output_type": "execute_result"
    },
    {
     "data": {
      "image/png": "[encoded data removed]",
      "text/plain": [
       "<matplotlib.figure.Figure at 0x7f6c2037d4e0>"
      ]
     },
     "metadata": {},
     "output_type": "display_data"
    },
    {
     "data": {
      "text/plain": [
       "[<matplotlib.lines.Line2D at 0x7f6c1e28efd0>]"
      ]
     },
     "execution_count": 4,
     "metadata": {},
     "output_type": "execute_result"
    },
    {
     "data": {
      "image/png": "[encoded data removed]",
      "text/plain": [
       "<matplotlib.figure.Figure at 0x7f6c1e298d30>"
      ]
     },
     "metadata": {},
     "output_type": "display_data"
    },
    {
     "data": {
      "text/plain": [
       "[<matplotlib.lines.Line2D at 0x7f6c1e1efcf8>]"
      ]
     },
     "execution_count": 4,
     "metadata": {},
     "output_type": "execute_result"
    },
    {
     "data": {
      "image/png": "[encoded data removed]",
      "text/plain": [
       "<matplotlib.figure.Figure at 0x7f6c1e228a20>"
      ]
     },
     "metadata": {},
     "output_type": "display_data"
    },
    {
     "data": {
      "text/plain": [
       "[<matplotlib.lines.Line2D at 0x7f6c1e1cda58>]"
      ]
     },
     "execution_count": 4,
     "metadata": {},
     "output_type": "execute_result"
    },
    {
     "data": {
      "image/png": "[encoded data removed]",
      "text/plain": [
       "<matplotlib.figure.Figure at 0x7f6c1e207c88>"
      ]
     },
     "metadata": {},
     "output_type": "display_data"
    }
   ],
   "source": [
    "# the plots show the crappy actions (very lengthy one)\n",
    "# it seems the SimpleAgent crashed to some deadlock or freezed because of some crappy heuristic?\n",
    "beg = 0\n",
    "end = -1\n",
    "plt.plot(stop_length[beg:end], 'blue')\n",
    "plt.show()\n",
    "plt.plot(down_length[beg:end], 'orange')\n",
    "plt.show()\n",
    "plt.plot(left_length[beg:end], 'red')\n",
    "plt.show()\n",
    "plt.plot(right_length[beg:end], 'green')\n",
    "plt.show()\n",
    "plt.plot(bomb_length[beg:end], 'purple')\n",
    "plt.show()"
   ]
  },
  {
   "cell_type": "code",
   "execution_count": 3,
   "metadata": {
    "collapsed": false,
    "scrolled": false
   },
   "outputs": [
    {
     "data": {
      "text/plain": [
       "177518"
      ]
     },
     "execution_count": 3,
     "metadata": {},
     "output_type": "execute_result"
    },
    {
     "data": {
      "text/plain": [
       "188327"
      ]
     },
     "execution_count": 3,
     "metadata": {},
     "output_type": "execute_result"
    },
    {
     "data": {
      "text/plain": [
       "178878"
      ]
     },
     "execution_count": 3,
     "metadata": {},
     "output_type": "execute_result"
    },
    {
     "data": {
      "text/plain": [
       "187966"
      ]
     },
     "execution_count": 3,
     "metadata": {},
     "output_type": "execute_result"
    },
    {
     "data": {
      "text/plain": [
       "190063"
      ]
     },
     "execution_count": 3,
     "metadata": {},
     "output_type": "execute_result"
    },
    {
     "data": {
      "text/plain": [
       "22768"
      ]
     },
     "execution_count": 3,
     "metadata": {},
     "output_type": "execute_result"
    }
   ],
   "source": [
    "def pick_idx(action_lengths, starts, ends):\n",
    "    picked = np.empty(0)\n",
    "    thresh = 10 # bomb life is also 10 - it seems to be a reasonable threshold .. \n",
    "                # .. for any action to be executed for this duration max\n",
    "    for i, al in enumerate(action_lengths):\n",
    "        if al == 0: # pick non-consequetive (=0)\n",
    "            picked = np.append(picked, starts[i])\n",
    "        elif al <= 10: # pick consequetive (<=thresh)\n",
    "            picked = np.append(picked, np.arange(starts[i], ends[i]+1))\n",
    "        else: # sample from consequetive actions longer than the threshold\n",
    "            n = thresh + 5\n",
    "            nr_samples = n if n < al else al\n",
    "            sampled = np.random.choice(range(starts[i], ends[i]+1), nr_samples, replace=False)\n",
    "            picked = np.append(picked, sampled)\n",
    "        #print(len(picked))\n",
    "    return picked\n",
    "\n",
    "\n",
    "_, _, starts, ends, stop_length = find_nonconseq_acts(stop_action, labels)\n",
    "stop_picked = pick_idx(stop_length, starts, ends)\n",
    "\n",
    "_, _, starts, ends, up_length = find_nonconseq_acts(up_action, labels)\n",
    "up_picked = pick_idx(up_length, starts, ends)\n",
    "\n",
    "_, _, starts, ends, down_length = find_nonconseq_acts(down_action, labels)\n",
    "down_picked = pick_idx(down_length, starts, ends)\n",
    "\n",
    "_, _, starts, ends, left_length = find_nonconseq_acts(left_action, labels)\n",
    "left_picked = pick_idx(left_length, starts, ends)\n",
    "\n",
    "_, _, starts, ends, right_length = find_nonconseq_acts(right_action, labels)\n",
    "right_picked = pick_idx(right_length, starts, ends)\n",
    "\n",
    "_, _, starts, ends, bomb_length = find_nonconseq_acts(bomb_action, labels)\n",
    "bomb_picked = pick_idx(bomb_length, starts, ends)\n",
    "\n",
    "\n",
    "len(stop_picked)\n",
    "len(up_picked)\n",
    "len(down_picked)\n",
    "len(left_picked)\n",
    "len(right_picked)\n",
    "len(bomb_picked)\n",
    "\n",
    "all_picked = np.concatenate([stop_picked, up_picked, down_picked, left_picked, right_picked, bomb_picked])\n",
    "# make sure don't have duplicate indices otherwise something's wrong with the perofrmed process\n",
    "assert len(np.unique(all_picked)) == len(all_picked) "
   ]
  },
  {
   "cell_type": "code",
   "execution_count": 4,
   "metadata": {
    "collapsed": false
   },
   "outputs": [
    {
     "name": "stdout",
     "output_type": "stream",
     "text": [
      "picked indices: 945520 out of 1256511 labels\n",
      "before:  [0.36810501 0.16168979 0.14268638 0.1558132  0.1535856  0.01812002]\n",
      "afterr:  [0.18774643 0.19917823 0.18918479 0.19879643 0.20101426 0.02407987]\n"
     ]
    }
   ],
   "source": [
    "# some stats\n",
    "print(\"picked indices: %i out of %i labels\" % (len(all_picked), len(labels)) )\n",
    "print(\"before: \", np.sum(labels, axis=0) / len(labels)) # proportion of labels\n",
    "picked_indices = np.sort(all_picked.astype('int'))\n",
    "y = labels[picked_indices]\n",
    "print(\"afterr: \", np.sum(y, axis=0) / len(y)) # proportion of picked labels -> make sure it is more balanced now\n",
    "\n",
    "# make sure the original order preserved (although it may not matter that much!)\n",
    "# y[:10]\n",
    "# labels[:10]"
   ]
  },
  {
   "cell_type": "code",
   "execution_count": 4,
   "metadata": {
    "collapsed": false
   },
   "outputs": [
    {
     "ename": "ValueError",
     "evalue": "14 is not a valid Item",
     "output_type": "error",
     "traceback": [
      "\u001b[0;31m---------------------------------------------------------------------------\u001b[0m",
      "\u001b[0;31mValueError\u001b[0m                                Traceback (most recent call last)",
      "\u001b[0;32m<ipython-input-4-fda71b1dc745>\u001b[0m in \u001b[0;36m<module>\u001b[0;34m()\u001b[0m\n\u001b[0;32m----> 1\u001b[0;31m \u001b[0mobs\u001b[0m \u001b[0;34m=\u001b[0m \u001b[0mnp\u001b[0m\u001b[0;34m.\u001b[0m\u001b[0mload\u001b[0m\u001b[0;34m(\u001b[0m\u001b[0;34m'obs.npy'\u001b[0m\u001b[0;34m)\u001b[0m\u001b[0;34m\u001b[0m\u001b[0m\n\u001b[0m",
      "\u001b[0;32m~/.conda/envs/pommerenv/lib/python3.6/site-packages/numpy/lib/npyio.py\u001b[0m in \u001b[0;36mload\u001b[0;34m(file, mmap_mode, allow_pickle, fix_imports, encoding)\u001b[0m\n\u001b[1;32m    419\u001b[0m             \u001b[0;32melse\u001b[0m\u001b[0;34m:\u001b[0m\u001b[0;34m\u001b[0m\u001b[0m\n\u001b[1;32m    420\u001b[0m                 return format.read_array(fid, allow_pickle=allow_pickle,\n\u001b[0;32m--> 421\u001b[0;31m                                          pickle_kwargs=pickle_kwargs)\n\u001b[0m\u001b[1;32m    422\u001b[0m         \u001b[0;32melse\u001b[0m\u001b[0;34m:\u001b[0m\u001b[0;34m\u001b[0m\u001b[0m\n\u001b[1;32m    423\u001b[0m             \u001b[0;31m# Try a pickle\u001b[0m\u001b[0;34m\u001b[0m\u001b[0;34m\u001b[0m\u001b[0m\n",
      "\u001b[0;32m~/.conda/envs/pommerenv/lib/python3.6/site-packages/numpy/lib/format.py\u001b[0m in \u001b[0;36mread_array\u001b[0;34m(fp, allow_pickle, pickle_kwargs)\u001b[0m\n\u001b[1;32m    648\u001b[0m             \u001b[0mpickle_kwargs\u001b[0m \u001b[0;34m=\u001b[0m \u001b[0;34m{\u001b[0m\u001b[0;34m}\u001b[0m\u001b[0;34m\u001b[0m\u001b[0m\n\u001b[1;32m    649\u001b[0m         \u001b[0;32mtry\u001b[0m\u001b[0;34m:\u001b[0m\u001b[0;34m\u001b[0m\u001b[0m\n\u001b[0;32m--> 650\u001b[0;31m             \u001b[0marray\u001b[0m \u001b[0;34m=\u001b[0m \u001b[0mpickle\u001b[0m\u001b[0;34m.\u001b[0m\u001b[0mload\u001b[0m\u001b[0;34m(\u001b[0m\u001b[0mfp\u001b[0m\u001b[0;34m,\u001b[0m \u001b[0;34m**\u001b[0m\u001b[0mpickle_kwargs\u001b[0m\u001b[0;34m)\u001b[0m\u001b[0;34m\u001b[0m\u001b[0m\n\u001b[0m\u001b[1;32m    651\u001b[0m         \u001b[0;32mexcept\u001b[0m \u001b[0mUnicodeError\u001b[0m \u001b[0;32mas\u001b[0m \u001b[0merr\u001b[0m\u001b[0;34m:\u001b[0m\u001b[0;34m\u001b[0m\u001b[0m\n\u001b[1;32m    652\u001b[0m             \u001b[0;32mif\u001b[0m \u001b[0msys\u001b[0m\u001b[0;34m.\u001b[0m\u001b[0mversion_info\u001b[0m\u001b[0;34m[\u001b[0m\u001b[0;36m0\u001b[0m\u001b[0;34m]\u001b[0m \u001b[0;34m>=\u001b[0m \u001b[0;36m3\u001b[0m\u001b[0;34m:\u001b[0m\u001b[0;34m\u001b[0m\u001b[0m\n",
      "\u001b[0;32m~/.conda/envs/pommerenv/lib/python3.6/enum.py\u001b[0m in \u001b[0;36m__call__\u001b[0;34m(cls, value, names, module, qualname, type, start)\u001b[0m\n\u001b[1;32m    289\u001b[0m         \"\"\"\n\u001b[1;32m    290\u001b[0m         \u001b[0;32mif\u001b[0m \u001b[0mnames\u001b[0m \u001b[0;32mis\u001b[0m \u001b[0;32mNone\u001b[0m\u001b[0;34m:\u001b[0m  \u001b[0;31m# simple value lookup\u001b[0m\u001b[0;34m\u001b[0m\u001b[0m\n\u001b[0;32m--> 291\u001b[0;31m             \u001b[0;32mreturn\u001b[0m \u001b[0mcls\u001b[0m\u001b[0;34m.\u001b[0m\u001b[0m__new__\u001b[0m\u001b[0;34m(\u001b[0m\u001b[0mcls\u001b[0m\u001b[0;34m,\u001b[0m \u001b[0mvalue\u001b[0m\u001b[0;34m)\u001b[0m\u001b[0;34m\u001b[0m\u001b[0m\n\u001b[0m\u001b[1;32m    292\u001b[0m         \u001b[0;31m# otherwise, functional API: we're creating a new Enum type\u001b[0m\u001b[0;34m\u001b[0m\u001b[0;34m\u001b[0m\u001b[0m\n\u001b[1;32m    293\u001b[0m         \u001b[0;32mreturn\u001b[0m \u001b[0mcls\u001b[0m\u001b[0;34m.\u001b[0m\u001b[0m_create_\u001b[0m\u001b[0;34m(\u001b[0m\u001b[0mvalue\u001b[0m\u001b[0;34m,\u001b[0m \u001b[0mnames\u001b[0m\u001b[0;34m,\u001b[0m \u001b[0mmodule\u001b[0m\u001b[0;34m=\u001b[0m\u001b[0mmodule\u001b[0m\u001b[0;34m,\u001b[0m \u001b[0mqualname\u001b[0m\u001b[0;34m=\u001b[0m\u001b[0mqualname\u001b[0m\u001b[0;34m,\u001b[0m \u001b[0mtype\u001b[0m\u001b[0;34m=\u001b[0m\u001b[0mtype\u001b[0m\u001b[0;34m,\u001b[0m \u001b[0mstart\u001b[0m\u001b[0;34m=\u001b[0m\u001b[0mstart\u001b[0m\u001b[0;34m)\u001b[0m\u001b[0;34m\u001b[0m\u001b[0m\n",
      "\u001b[0;32m~/.conda/envs/pommerenv/lib/python3.6/enum.py\u001b[0m in \u001b[0;36m__new__\u001b[0;34m(cls, value)\u001b[0m\n\u001b[1;32m    531\u001b[0m                     \u001b[0;32mreturn\u001b[0m \u001b[0mmember\u001b[0m\u001b[0;34m\u001b[0m\u001b[0m\n\u001b[1;32m    532\u001b[0m         \u001b[0;31m# still not found -- try _missing_ hook\u001b[0m\u001b[0;34m\u001b[0m\u001b[0;34m\u001b[0m\u001b[0m\n\u001b[0;32m--> 533\u001b[0;31m         \u001b[0;32mreturn\u001b[0m \u001b[0mcls\u001b[0m\u001b[0;34m.\u001b[0m\u001b[0m_missing_\u001b[0m\u001b[0;34m(\u001b[0m\u001b[0mvalue\u001b[0m\u001b[0;34m)\u001b[0m\u001b[0;34m\u001b[0m\u001b[0m\n\u001b[0m\u001b[1;32m    534\u001b[0m \u001b[0;34m\u001b[0m\u001b[0m\n\u001b[1;32m    535\u001b[0m     \u001b[0;32mdef\u001b[0m \u001b[0m_generate_next_value_\u001b[0m\u001b[0;34m(\u001b[0m\u001b[0mname\u001b[0m\u001b[0;34m,\u001b[0m \u001b[0mstart\u001b[0m\u001b[0;34m,\u001b[0m \u001b[0mcount\u001b[0m\u001b[0;34m,\u001b[0m \u001b[0mlast_values\u001b[0m\u001b[0;34m)\u001b[0m\u001b[0;34m:\u001b[0m\u001b[0;34m\u001b[0m\u001b[0m\n",
      "\u001b[0;32m~/.conda/envs/pommerenv/lib/python3.6/enum.py\u001b[0m in \u001b[0;36m_missing_\u001b[0;34m(cls, value)\u001b[0m\n\u001b[1;32m    544\u001b[0m     \u001b[0;34m@\u001b[0m\u001b[0mclassmethod\u001b[0m\u001b[0;34m\u001b[0m\u001b[0m\n\u001b[1;32m    545\u001b[0m     \u001b[0;32mdef\u001b[0m \u001b[0m_missing_\u001b[0m\u001b[0;34m(\u001b[0m\u001b[0mcls\u001b[0m\u001b[0;34m,\u001b[0m \u001b[0mvalue\u001b[0m\u001b[0;34m)\u001b[0m\u001b[0;34m:\u001b[0m\u001b[0;34m\u001b[0m\u001b[0m\n\u001b[0;32m--> 546\u001b[0;31m         \u001b[0;32mraise\u001b[0m \u001b[0mValueError\u001b[0m\u001b[0;34m(\u001b[0m\u001b[0;34m\"%r is not a valid %s\"\u001b[0m \u001b[0;34m%\u001b[0m \u001b[0;34m(\u001b[0m\u001b[0mvalue\u001b[0m\u001b[0;34m,\u001b[0m \u001b[0mcls\u001b[0m\u001b[0;34m.\u001b[0m\u001b[0m__name__\u001b[0m\u001b[0;34m)\u001b[0m\u001b[0;34m)\u001b[0m\u001b[0;34m\u001b[0m\u001b[0m\n\u001b[0m\u001b[1;32m    547\u001b[0m \u001b[0;34m\u001b[0m\u001b[0m\n\u001b[1;32m    548\u001b[0m     \u001b[0;32mdef\u001b[0m \u001b[0m__repr__\u001b[0m\u001b[0;34m(\u001b[0m\u001b[0mself\u001b[0m\u001b[0;34m)\u001b[0m\u001b[0;34m:\u001b[0m\u001b[0;34m\u001b[0m\u001b[0m\n",
      "\u001b[0;31mValueError\u001b[0m: 14 is not a valid Item"
     ]
    }
   ],
   "source": [
    "obs = np.load('obs.npy')"
   ]
  },
  {
   "cell_type": "code",
   "execution_count": 8,
   "metadata": {
    "collapsed": false,
    "scrolled": false
   },
   "outputs": [],
   "source": [
    "obs_picked = obs[picked_indices]\n",
    "assert len(y) == len(obs_picked)\n",
    "np.save('dataset/labels_balanced.npy', y)\n",
    "np.save('dataset/obs_balanced.npy', obs_picked)"
   ]
  },
  {
   "cell_type": "code",
   "execution_count": 9,
   "metadata": {
    "collapsed": false
   },
   "outputs": [
    {
     "data": {
      "text/plain": [
       "236380"
      ]
     },
     "execution_count": 9,
     "metadata": {},
     "output_type": "execute_result"
    },
    {
     "name": "stdout",
     "output_type": "stream",
     "text": [
      "y_2 len:  236380\n",
      "obs_2 len:  236380\n"
     ]
    }
   ],
   "source": [
    "# obs_quarter = obs[:len(obs)//4,:]\n",
    "len(obs_picked) // 4\n",
    "\n",
    "y_2 = y[:len(y) // 4]\n",
    "obs_2 = obs_picked[:len(y) // 4]\n",
    "\n",
    "print(\"y_2 len: \", len(y_2))\n",
    "print(\"obs_2 len: \", len(obs_2))\n",
    "\n",
    "np.save('dataset/labels_small.npy', y)\n",
    "np.save('dataset/obs_small.npy', obs_2)"
   ]
  }
 ],
 "metadata": {
  "kernelspec": {
   "display_name": "Python 3.6",
   "language": "python",
   "name": "python3"
  }
 },
 "nbformat": 4,
 "nbformat_minor": 2
}
