{
 "cells": [
  {
   "cell_type": "code",
   "execution_count": 1,
   "metadata": {},
   "outputs": [
    {
     "name": "stderr",
     "output_type": "stream",
     "text": [
      "/gpfs/hpchome/anton95/.conda/envs/pommerman/lib/python3.6/site-packages/h5py/__init__.py:36: FutureWarning: Conversion of the second argument of issubdtype from `float` to `np.floating` is deprecated. In future, it will be treated as `np.float64 == np.dtype(float).type`.\n",
      "  from ._conv import register_converters as _register_converters\n",
      "Using TensorFlow backend.\n",
      "/gpfs/hpchome/anton95/.conda/envs/pommerman/lib/python3.6/importlib/_bootstrap.py:219: RuntimeWarning: compiletime version 3.5 of module 'tensorflow.python.framework.fast_tensor_util' does not match runtime version 3.6\n",
      "  return f(*args, **kwds)\n"
     ]
    },
    {
     "name": "stdout",
     "output_type": "stream",
     "text": [
      "Import error! You will not be able to render --> Cannot connect to \"None\"\n"
     ]
    }
   ],
   "source": [
    "import numpy as np\n",
    "import os\n",
    "\n",
    "from keras.callbacks import EarlyStopping, ModelCheckpoint, ReduceLROnPlateau, CSVLogger, TensorBoard\n",
    "from keras.layers import Input, Dense, Flatten, Convolution2D, BatchNormalization, Activation, Add\n",
    "from keras.models import Model\n",
    "from keras.utils import to_categorical\n",
    "from keras import backend as K\n",
    "from pommerman.constants import BOARD_SIZE\n",
    "from tqdm import tqdm_notebook as tqdm\n",
    "from sklearn.utils.class_weight import compute_class_weight"
   ]
  },
  {
   "cell_type": "code",
   "execution_count": 2,
   "metadata": {},
   "outputs": [],
   "source": [
    "batch_size = 2048\n",
    "epochs = 150\n",
    "early_stopping = 5\n",
    "action_space = 6\n",
    "\n",
    "log_path = './supervised_learning/logs/5cnn/'\n",
    "model_path = './supervised_learning/model/5cnn/model.h4'\n",
    "\n",
    "train_data_path    = './dataset/'\n",
    "train_data_labels  = os.path.join(train_data_path, 'labels.npy')\n",
    "train_data_reward  = os.path.join(train_data_path, 'reward.npy')\n",
    "train_data_obs_map = os.path.join(train_data_path, 'obs_map.npy')\n",
    "\n",
    "if not os.path.isdir(train_data_path):\n",
    "    os.makedirs(train_data_path)"
   ]
  },
  {
   "cell_type": "code",
   "execution_count": 17,
   "metadata": {},
   "outputs": [],
   "source": [
    "class Trainer:\n",
    "    def __init__(self, actions, save_path, log_path, save_best_only=True, seed=0):\n",
    "        K.clear_session()\n",
    "        self.log_path = log_path\n",
    "        self.save_path = save_path\n",
    "        self.actions = actions\n",
    "        self.save_best_only = save_best_only\n",
    "        \n",
    "        # Create model\n",
    "        self.model = self.create_model(actions)\n",
    "        # Load model if exists\n",
    "        if not os.path.isdir(os.path.dirname(save_path)):\n",
    "            os.makedirs(os.path.dirname(save_path))            \n",
    "        if os.path.isfile(self.save_path):\n",
    "            try:\n",
    "                print(\"Trying to load model\")\n",
    "                self.model.load_weights(self.save_path)\n",
    "                print(\"Model was loaded successful\")\n",
    "            except:\n",
    "                print(\"Model load failed\")\n",
    "        \n",
    "    def create_model(self, actions, input_shape=(11, 11, 18,)):\n",
    "        inp = Input(input_shape)\n",
    "        # 5 Convs -> receptive field 11\n",
    "        x = Convolution2D(256, 3, padding='valid')(inp)\n",
    "        x = BatchNormalization()(x)\n",
    "        x = Activation('elu')(x)\n",
    "        x = Convolution2D(256, 3, padding='valid')(x)\n",
    "        x = BatchNormalization()(x)\n",
    "        x = Activation('elu')(x)\n",
    "        x = Convolution2D(256, 3, padding='valid')(x)\n",
    "        x = BatchNormalization()(x)\n",
    "        x = Activation('elu')(x)\n",
    "        x = Convolution2D(256, 3, padding='valid')(x)\n",
    "        x = BatchNormalization()(x)\n",
    "        x = Activation('elu')(x)\n",
    "        x = Convolution2D(256, 3, padding='valid')(x)\n",
    "        x = BatchNormalization()(x)\n",
    "        x = Activation('elu')(x)\n",
    "        x = Flatten()(x)\n",
    "        # Output\n",
    "        probs  = Dense(actions, activation='softmax', name='actions')(x)\n",
    "        reward = Dense(1, activation='tanh', name='reward')(x)\n",
    "        \n",
    "        model = Model(inputs = inp, outputs=[probs, reward])\n",
    "        model.compile(optimizer='adam', loss=['categorical_crossentropy', 'mae'], metrics=['accuracy'])\n",
    "        return model\n",
    "\n",
    "    def train(self, obs, actions, rewards, batch_size=16384, epochs=100,\n",
    "              early_stopping = 10, class_weight=None, initial_epoch=0):\n",
    "        \n",
    "        early_stopping = EarlyStopping(monitor='loss', patience=early_stopping)\n",
    "        checkpoint     = ModelCheckpoint(self.save_path, monitor='loss', save_best_only=self.save_best_only)\n",
    "        reduce_lr      = ReduceLROnPlateau(monitor='loss', patience=2, factor=0.1)\n",
    "        logger         = CSVLogger(self.log_path + 'log.csv', append=True)\n",
    "        tensorboard    = TensorBoard(self.log_path, batch_size=batch_size)\n",
    "        \n",
    "        history = self.model.fit(x=obs, y=[actions, rewards], batch_size=batch_size, epochs=epochs, verbose=1,\n",
    "                       callbacks=[early_stopping, checkpoint, reduce_lr, logger, tensorboard],\n",
    "                       validation_split=0.15, shuffle=True, class_weight=class_weight, initial_epoch=initial_epoch)"
   ]
  },
  {
   "cell_type": "code",
   "execution_count": 4,
   "metadata": {},
   "outputs": [],
   "source": [
    "labels       = np.load(train_data_labels)\n",
    "observations = np.load(train_data_obs_map)\n",
    "rewards      = np.load(train_data_reward)"
   ]
  },
  {
   "cell_type": "code",
   "execution_count": 5,
   "metadata": {},
   "outputs": [],
   "source": [
    "labels = to_categorical(labels, num_classes=action_space)"
   ]
  },
  {
   "cell_type": "code",
   "execution_count": 6,
   "metadata": {},
   "outputs": [
    {
     "data": {
      "text/plain": [
       "((553065, 6), (553065, 11, 11, 18), (553065,))"
      ]
     },
     "execution_count": 6,
     "metadata": {},
     "output_type": "execute_result"
    }
   ],
   "source": [
    "labels.shape, observations.shape, rewards.shape"
   ]
  },
  {
   "cell_type": "code",
   "execution_count": 7,
   "metadata": {},
   "outputs": [
    {
     "data": {
      "text/plain": [
       "array([0.15941164, 0.20397964, 0.190945  , 0.20009764, 0.20339382,\n",
       "       0.04217226], dtype=float32)"
      ]
     },
     "execution_count": 7,
     "metadata": {},
     "output_type": "execute_result"
    }
   ],
   "source": [
    "np.sum(labels, axis=0) / np.sum(labels)"
   ]
  },
  {
   "cell_type": "code",
   "execution_count": 8,
   "metadata": {},
   "outputs": [
    {
     "data": {
      "text/plain": [
       "array([1.04551126, 0.81707501, 0.87285166, 0.83292671, 0.81942839,\n",
       "       3.9520451 ])"
      ]
     },
     "execution_count": 8,
     "metadata": {},
     "output_type": "execute_result"
    }
   ],
   "source": [
    "class_weights = compute_class_weight('balanced', np.unique(np.argmax(labels, axis=1)), np.argmax(labels, axis=1))\n",
    "class_weights"
   ]
  },
  {
   "cell_type": "code",
   "execution_count": 18,
   "metadata": {},
   "outputs": [],
   "source": [
    "trainer = Trainer(action_space, model_path, log_path)"
   ]
  },
  {
   "cell_type": "code",
   "execution_count": 19,
   "metadata": {},
   "outputs": [
    {
     "name": "stdout",
     "output_type": "stream",
     "text": [
      "__________________________________________________________________________________________________\n",
      "Layer (type)                    Output Shape         Param #     Connected to                     \n",
      "==================================================================================================\n",
      "input_1 (InputLayer)            (None, 11, 11, 18)   0                                            \n",
      "__________________________________________________________________________________________________\n",
      "conv2d_1 (Conv2D)               (None, 9, 9, 256)    41728       input_1[0][0]                    \n",
      "__________________________________________________________________________________________________\n",
      "batch_normalization_1 (BatchNor (None, 9, 9, 256)    1024        conv2d_1[0][0]                   \n",
      "__________________________________________________________________________________________________\n",
      "activation_1 (Activation)       (None, 9, 9, 256)    0           batch_normalization_1[0][0]      \n",
      "__________________________________________________________________________________________________\n",
      "conv2d_2 (Conv2D)               (None, 7, 7, 256)    590080      activation_1[0][0]               \n",
      "__________________________________________________________________________________________________\n",
      "batch_normalization_2 (BatchNor (None, 7, 7, 256)    1024        conv2d_2[0][0]                   \n",
      "__________________________________________________________________________________________________\n",
      "activation_2 (Activation)       (None, 7, 7, 256)    0           batch_normalization_2[0][0]      \n",
      "__________________________________________________________________________________________________\n",
      "conv2d_3 (Conv2D)               (None, 5, 5, 256)    590080      activation_2[0][0]               \n",
      "__________________________________________________________________________________________________\n",
      "batch_normalization_3 (BatchNor (None, 5, 5, 256)    1024        conv2d_3[0][0]                   \n",
      "__________________________________________________________________________________________________\n",
      "activation_3 (Activation)       (None, 5, 5, 256)    0           batch_normalization_3[0][0]      \n",
      "__________________________________________________________________________________________________\n",
      "conv2d_4 (Conv2D)               (None, 3, 3, 256)    590080      activation_3[0][0]               \n",
      "__________________________________________________________________________________________________\n",
      "batch_normalization_4 (BatchNor (None, 3, 3, 256)    1024        conv2d_4[0][0]                   \n",
      "__________________________________________________________________________________________________\n",
      "activation_4 (Activation)       (None, 3, 3, 256)    0           batch_normalization_4[0][0]      \n",
      "__________________________________________________________________________________________________\n",
      "conv2d_5 (Conv2D)               (None, 1, 1, 256)    590080      activation_4[0][0]               \n",
      "__________________________________________________________________________________________________\n",
      "batch_normalization_5 (BatchNor (None, 1, 1, 256)    1024        conv2d_5[0][0]                   \n",
      "__________________________________________________________________________________________________\n",
      "activation_5 (Activation)       (None, 1, 1, 256)    0           batch_normalization_5[0][0]      \n",
      "__________________________________________________________________________________________________\n",
      "flatten_1 (Flatten)             (None, 256)          0           activation_5[0][0]               \n",
      "__________________________________________________________________________________________________\n",
      "actions (Dense)                 (None, 6)            1542        flatten_1[0][0]                  \n",
      "__________________________________________________________________________________________________\n",
      "reward (Dense)                  (None, 1)            257         flatten_1[0][0]                  \n",
      "==================================================================================================\n",
      "Total params: 2,408,967\n",
      "Trainable params: 2,406,407\n",
      "Non-trainable params: 2,560\n",
      "__________________________________________________________________________________________________\n"
     ]
    }
   ],
   "source": [
    "trainer.model.summary()"
   ]
  },
  {
   "cell_type": "code",
   "execution_count": null,
   "metadata": {},
   "outputs": [
    {
     "name": "stdout",
     "output_type": "stream",
     "text": [
      "Train on 470105 samples, validate on 82960 samples\n",
      "Epoch 1/150\n",
      "470105/470105 [==============================] - 40s 84us/step - loss: 2.2331 - actions_loss: 1.6744 - reward_loss: 0.5586 - actions_acc: 0.2571 - reward_acc: 0.7176 - val_loss: 2.1872 - val_actions_loss: 1.6816 - val_reward_loss: 0.5056 - val_actions_acc: 0.2487 - val_reward_acc: 0.7480\n",
      "Epoch 2/150\n",
      "470105/470105 [==============================] - 36s 77us/step - loss: 1.9856 - actions_loss: 1.5082 - reward_loss: 0.4775 - actions_acc: 0.3359 - reward_acc: 0.7593 - val_loss: 1.9725 - val_actions_loss: 1.4353 - val_reward_loss: 0.5372 - val_actions_acc: 0.3725 - val_reward_acc: 0.7260\n",
      "Epoch 3/150\n",
      "470105/470105 [==============================] - 36s 77us/step - loss: 1.7433 - actions_loss: 1.2773 - reward_loss: 0.4660 - actions_acc: 0.4303 - reward_acc: 0.7648 - val_loss: 1.7583 - val_actions_loss: 1.2539 - val_reward_loss: 0.5044 - val_actions_acc: 0.4486 - val_reward_acc: 0.7478\n",
      "Epoch 4/150\n",
      "470105/470105 [==============================] - 41s 87us/step - loss: 1.5792 - actions_loss: 1.1374 - reward_loss: 0.4417 - actions_acc: 0.4926 - reward_acc: 0.7751 - val_loss: 1.8818 - val_actions_loss: 1.3626 - val_reward_loss: 0.5192 - val_actions_acc: 0.4515 - val_reward_acc: 0.7290\n",
      "Epoch 5/150\n",
      "470105/470105 [==============================] - 50s 106us/step - loss: 1.4412 - actions_loss: 1.0292 - reward_loss: 0.4120 - actions_acc: 0.5399 - reward_acc: 0.7891 - val_loss: 1.6044 - val_actions_loss: 1.0843 - val_reward_loss: 0.5201 - val_actions_acc: 0.5255 - val_reward_acc: 0.7286\n",
      "Epoch 6/150\n",
      "470105/470105 [==============================] - 53s 112us/step - loss: 1.3374 - actions_loss: 0.9455 - reward_loss: 0.3919 - actions_acc: 0.5726 - reward_acc: 0.8000 - val_loss: 1.5137 - val_actions_loss: 0.9800 - val_reward_loss: 0.5337 - val_actions_acc: 0.5628 - val_reward_acc: 0.7227\n",
      "Epoch 7/150\n",
      "470105/470105 [==============================] - 55s 116us/step - loss: 1.2679 - actions_loss: 0.8947 - reward_loss: 0.3731 - actions_acc: 0.5909 - reward_acc: 0.8093 - val_loss: 1.4962 - val_actions_loss: 0.9378 - val_reward_loss: 0.5584 - val_actions_acc: 0.5758 - val_reward_acc: 0.7105\n",
      "Epoch 8/150\n",
      "470105/470105 [==============================] - 53s 113us/step - loss: 1.2153 - actions_loss: 0.8618 - reward_loss: 0.3536 - actions_acc: 0.6029 - reward_acc: 0.8194 - val_loss: 1.4422 - val_actions_loss: 0.9288 - val_reward_loss: 0.5133 - val_actions_acc: 0.5803 - val_reward_acc: 0.7355\n",
      "Epoch 9/150\n",
      "470105/470105 [==============================] - 54s 115us/step - loss: 1.1753 - actions_loss: 0.8362 - reward_loss: 0.3391 - actions_acc: 0.6132 - reward_acc: 0.8266 - val_loss: 1.4449 - val_actions_loss: 0.9228 - val_reward_loss: 0.5221 - val_actions_acc: 0.5889 - val_reward_acc: 0.7328\n",
      "Epoch 10/150\n",
      "470105/470105 [==============================] - 57s 121us/step - loss: 1.1379 - actions_loss: 0.8169 - reward_loss: 0.3210 - actions_acc: 0.6210 - reward_acc: 0.8360 - val_loss: 1.4330 - val_actions_loss: 0.9031 - val_reward_loss: 0.5299 - val_actions_acc: 0.5931 - val_reward_acc: 0.7297\n",
      "Epoch 11/150\n",
      "470105/470105 [==============================] - 59s 125us/step - loss: 1.1109 - actions_loss: 0.8017 - reward_loss: 0.3093 - actions_acc: 0.6265 - reward_acc: 0.8422 - val_loss: 1.4304 - val_actions_loss: 0.8831 - val_reward_loss: 0.5473 - val_actions_acc: 0.5969 - val_reward_acc: 0.7165\n",
      "Epoch 12/150\n",
      "470105/470105 [==============================] - 58s 123us/step - loss: 1.0817 - actions_loss: 0.7863 - reward_loss: 0.2955 - actions_acc: 0.6335 - reward_acc: 0.8491 - val_loss: 1.4819 - val_actions_loss: 0.8955 - val_reward_loss: 0.5865 - val_actions_acc: 0.5999 - val_reward_acc: 0.6974\n",
      "Epoch 13/150\n",
      "470105/470105 [==============================] - 56s 120us/step - loss: 1.0531 - actions_loss: 0.7777 - reward_loss: 0.2754 - actions_acc: 0.6382 - reward_acc: 0.8588 - val_loss: 1.4256 - val_actions_loss: 0.8768 - val_reward_loss: 0.5488 - val_actions_acc: 0.6013 - val_reward_acc: 0.7186\n",
      "Epoch 14/150\n",
      "470105/470105 [==============================] - 58s 122us/step - loss: 1.0212 - actions_loss: 0.7647 - reward_loss: 0.2565 - actions_acc: 0.6430 - reward_acc: 0.8686 - val_loss: 1.4705 - val_actions_loss: 0.8772 - val_reward_loss: 0.5933 - val_actions_acc: 0.6008 - val_reward_acc: 0.6939\n",
      "Epoch 15/150\n",
      "470105/470105 [==============================] - 59s 126us/step - loss: 0.9960 - actions_loss: 0.7560 - reward_loss: 0.2400 - actions_acc: 0.6479 - reward_acc: 0.8771 - val_loss: 1.5334 - val_actions_loss: 0.9124 - val_reward_loss: 0.6211 - val_actions_acc: 0.5928 - val_reward_acc: 0.6751\n",
      "Epoch 16/150\n",
      "470105/470105 [==============================] - 57s 120us/step - loss: 0.9701 - actions_loss: 0.7462 - reward_loss: 0.2239 - actions_acc: 0.6528 - reward_acc: 0.8853 - val_loss: 1.4498 - val_actions_loss: 0.8797 - val_reward_loss: 0.5700 - val_actions_acc: 0.6038 - val_reward_acc: 0.7051\n",
      "Epoch 17/150\n",
      "470105/470105 [==============================] - 58s 124us/step - loss: 0.9446 - actions_loss: 0.7358 - reward_loss: 0.2088 - actions_acc: 0.6572 - reward_acc: 0.8934 - val_loss: 1.5083 - val_actions_loss: 0.8828 - val_reward_loss: 0.6255 - val_actions_acc: 0.6037 - val_reward_acc: 0.6771\n",
      "Epoch 18/150\n",
      "470105/470105 [==============================] - 57s 122us/step - loss: 0.9263 - actions_loss: 0.7260 - reward_loss: 0.2003 - actions_acc: 0.6622 - reward_acc: 0.8978 - val_loss: 1.5241 - val_actions_loss: 0.9247 - val_reward_loss: 0.5994 - val_actions_acc: 0.5994 - val_reward_acc: 0.6901\n",
      "Epoch 19/150\n",
      "470105/470105 [==============================] - 57s 121us/step - loss: 0.9086 - actions_loss: 0.7167 - reward_loss: 0.1919 - actions_acc: 0.6668 - reward_acc: 0.9021 - val_loss: 1.5172 - val_actions_loss: 0.8918 - val_reward_loss: 0.6254 - val_actions_acc: 0.6027 - val_reward_acc: 0.6759\n",
      "Epoch 20/150\n",
      "470105/470105 [==============================] - 59s 125us/step - loss: 0.8930 - actions_loss: 0.7083 - reward_loss: 0.1847 - actions_acc: 0.6709 - reward_acc: 0.9059 - val_loss: 1.5590 - val_actions_loss: 0.9112 - val_reward_loss: 0.6478 - val_actions_acc: 0.5977 - val_reward_acc: 0.6664\n",
      "Epoch 21/150\n",
      "470105/470105 [==============================] - 59s 125us/step - loss: 0.8742 - actions_loss: 0.6991 - reward_loss: 0.1751 - actions_acc: 0.6754 - reward_acc: 0.9106 - val_loss: 1.5237 - val_actions_loss: 0.8905 - val_reward_loss: 0.6331 - val_actions_acc: 0.6001 - val_reward_acc: 0.6734\n",
      "Epoch 22/150\n",
      "470105/470105 [==============================] - 55s 117us/step - loss: 0.8557 - actions_loss: 0.6903 - reward_loss: 0.1654 - actions_acc: 0.6799 - reward_acc: 0.9156 - val_loss: 1.5375 - val_actions_loss: 0.8787 - val_reward_loss: 0.6588 - val_actions_acc: 0.6040 - val_reward_acc: 0.6598\n",
      "Epoch 23/150\n",
      "470105/470105 [==============================] - 57s 121us/step - loss: 0.8392 - actions_loss: 0.6812 - reward_loss: 0.1580 - actions_acc: 0.6846 - reward_acc: 0.9193 - val_loss: 1.5556 - val_actions_loss: 0.9211 - val_reward_loss: 0.6345 - val_actions_acc: 0.5964 - val_reward_acc: 0.6734\n",
      "Epoch 24/150\n",
      "470105/470105 [==============================] - 57s 121us/step - loss: 0.8229 - actions_loss: 0.6726 - reward_loss: 0.1503 - actions_acc: 0.6895 - reward_acc: 0.9234 - val_loss: 1.5597 - val_actions_loss: 0.9513 - val_reward_loss: 0.6084 - val_actions_acc: 0.5918 - val_reward_acc: 0.6871\n",
      "Epoch 25/150\n",
      "470105/470105 [==============================] - 58s 123us/step - loss: 0.8060 - actions_loss: 0.6621 - reward_loss: 0.1439 - actions_acc: 0.6950 - reward_acc: 0.9267 - val_loss: 1.5323 - val_actions_loss: 0.9051 - val_reward_loss: 0.6273 - val_actions_acc: 0.6043 - val_reward_acc: 0.6773\n",
      "Epoch 26/150\n",
      "470105/470105 [==============================] - 63s 134us/step - loss: 0.7918 - actions_loss: 0.6530 - reward_loss: 0.1388 - actions_acc: 0.6999 - reward_acc: 0.9292 - val_loss: 1.5948 - val_actions_loss: 0.9724 - val_reward_loss: 0.6223 - val_actions_acc: 0.5981 - val_reward_acc: 0.6802\n",
      "Epoch 27/150\n",
      "470105/470105 [==============================] - 56s 118us/step - loss: 0.7763 - actions_loss: 0.6442 - reward_loss: 0.1321 - actions_acc: 0.7042 - reward_acc: 0.9326 - val_loss: 1.5436 - val_actions_loss: 0.9737 - val_reward_loss: 0.5699 - val_actions_acc: 0.5979 - val_reward_acc: 0.7082\n"
     ]
    },
    {
     "name": "stdout",
     "output_type": "stream",
     "text": [
      "Epoch 28/150\n",
      "470105/470105 [==============================] - 57s 120us/step - loss: 0.7603 - actions_loss: 0.6338 - reward_loss: 0.1265 - actions_acc: 0.7100 - reward_acc: 0.9355 - val_loss: 1.7005 - val_actions_loss: 1.0792 - val_reward_loss: 0.6212 - val_actions_acc: 0.5775 - val_reward_acc: 0.6806\n",
      "Epoch 29/150\n",
      "470105/470105 [==============================] - 56s 120us/step - loss: 0.7428 - actions_loss: 0.6224 - reward_loss: 0.1204 - actions_acc: 0.7153 - reward_acc: 0.9386 - val_loss: 1.6741 - val_actions_loss: 1.0614 - val_reward_loss: 0.6127 - val_actions_acc: 0.5924 - val_reward_acc: 0.6843\n",
      "Epoch 30/150\n",
      "470105/470105 [==============================] - 59s 125us/step - loss: 0.7296 - actions_loss: 0.6129 - reward_loss: 0.1167 - actions_acc: 0.7197 - reward_acc: 0.9405 - val_loss: 1.7086 - val_actions_loss: 1.0437 - val_reward_loss: 0.6649 - val_actions_acc: 0.5861 - val_reward_acc: 0.6569\n",
      "Epoch 31/150\n",
      "470105/470105 [==============================] - 55s 118us/step - loss: 0.7129 - actions_loss: 0.6009 - reward_loss: 0.1120 - actions_acc: 0.7260 - reward_acc: 0.9430 - val_loss: 1.6401 - val_actions_loss: 1.0353 - val_reward_loss: 0.6048 - val_actions_acc: 0.5946 - val_reward_acc: 0.6895\n",
      "Epoch 32/150\n",
      "470105/470105 [==============================] - 56s 119us/step - loss: 0.7000 - actions_loss: 0.5906 - reward_loss: 0.1094 - actions_acc: 0.7312 - reward_acc: 0.9443 - val_loss: 1.6403 - val_actions_loss: 1.0344 - val_reward_loss: 0.6059 - val_actions_acc: 0.5947 - val_reward_acc: 0.6892\n",
      "Epoch 33/150\n",
      "470105/470105 [==============================] - 56s 118us/step - loss: 0.6864 - actions_loss: 0.5793 - reward_loss: 0.1072 - actions_acc: 0.7373 - reward_acc: 0.9455 - val_loss: 1.7010 - val_actions_loss: 1.0658 - val_reward_loss: 0.6351 - val_actions_acc: 0.5918 - val_reward_acc: 0.6736\n",
      "Epoch 34/150\n",
      "470105/470105 [==============================] - 58s 124us/step - loss: 0.6731 - actions_loss: 0.5683 - reward_loss: 0.1048 - actions_acc: 0.7424 - reward_acc: 0.9466 - val_loss: 1.6964 - val_actions_loss: 1.0917 - val_reward_loss: 0.6047 - val_actions_acc: 0.5864 - val_reward_acc: 0.6904\n",
      "Epoch 35/150\n",
      "470105/470105 [==============================] - 55s 117us/step - loss: 0.6579 - actions_loss: 0.5569 - reward_loss: 0.1010 - actions_acc: 0.7482 - reward_acc: 0.9487 - val_loss: 1.6941 - val_actions_loss: 1.0609 - val_reward_loss: 0.6332 - val_actions_acc: 0.5874 - val_reward_acc: 0.6745\n",
      "Epoch 36/150\n",
      "470105/470105 [==============================] - 57s 121us/step - loss: 0.6437 - actions_loss: 0.5462 - reward_loss: 0.0975 - actions_acc: 0.7536 - reward_acc: 0.9505 - val_loss: 1.7859 - val_actions_loss: 1.1810 - val_reward_loss: 0.6049 - val_actions_acc: 0.5860 - val_reward_acc: 0.6895\n",
      "Epoch 37/150\n",
      "470105/470105 [==============================] - 57s 121us/step - loss: 0.6287 - actions_loss: 0.5356 - reward_loss: 0.0931 - actions_acc: 0.7588 - reward_acc: 0.9526 - val_loss: 1.8586 - val_actions_loss: 1.2382 - val_reward_loss: 0.6204 - val_actions_acc: 0.5855 - val_reward_acc: 0.6825\n",
      "Epoch 38/150\n",
      "470105/470105 [==============================] - 57s 122us/step - loss: 0.6101 - actions_loss: 0.5227 - reward_loss: 0.0875 - actions_acc: 0.7649 - reward_acc: 0.9555 - val_loss: 1.8800 - val_actions_loss: 1.2619 - val_reward_loss: 0.6181 - val_actions_acc: 0.5885 - val_reward_acc: 0.6833\n",
      "Epoch 39/150\n",
      "470105/470105 [==============================] - 55s 118us/step - loss: 0.5968 - actions_loss: 0.5135 - reward_loss: 0.0832 - actions_acc: 0.7702 - reward_acc: 0.9576 - val_loss: 1.8764 - val_actions_loss: 1.2810 - val_reward_loss: 0.5953 - val_actions_acc: 0.5854 - val_reward_acc: 0.6962\n",
      "Epoch 40/150\n",
      "470105/470105 [==============================] - 59s 126us/step - loss: 0.5810 - actions_loss: 0.5011 - reward_loss: 0.0800 - actions_acc: 0.7756 - reward_acc: 0.9593 - val_loss: 1.9464 - val_actions_loss: 1.3047 - val_reward_loss: 0.6416 - val_actions_acc: 0.5877 - val_reward_acc: 0.6705\n",
      "Epoch 41/150\n",
      "470105/470105 [==============================] - 54s 115us/step - loss: 0.5663 - actions_loss: 0.4893 - reward_loss: 0.0770 - actions_acc: 0.7820 - reward_acc: 0.9607 - val_loss: 2.0307 - val_actions_loss: 1.4125 - val_reward_loss: 0.6182 - val_actions_acc: 0.5852 - val_reward_acc: 0.6830\n",
      "Epoch 42/150\n",
      "470105/470105 [==============================] - 58s 124us/step - loss: 0.5554 - actions_loss: 0.4807 - reward_loss: 0.0747 - actions_acc: 0.7853 - reward_acc: 0.9619 - val_loss: 1.9130 - val_actions_loss: 1.3114 - val_reward_loss: 0.6016 - val_actions_acc: 0.5848 - val_reward_acc: 0.6926\n",
      "Epoch 43/150\n",
      "470105/470105 [==============================] - 56s 120us/step - loss: 0.5393 - actions_loss: 0.4689 - reward_loss: 0.0704 - actions_acc: 0.7918 - reward_acc: 0.9641 - val_loss: 1.9480 - val_actions_loss: 1.2896 - val_reward_loss: 0.6585 - val_actions_acc: 0.5850 - val_reward_acc: 0.6605\n",
      "Epoch 44/150\n",
      "470105/470105 [==============================] - 57s 121us/step - loss: 0.5218 - actions_loss: 0.4554 - reward_loss: 0.0664 - actions_acc: 0.7982 - reward_acc: 0.9662 - val_loss: 2.0156 - val_actions_loss: 1.4016 - val_reward_loss: 0.6140 - val_actions_acc: 0.5840 - val_reward_acc: 0.6852\n",
      "Epoch 45/150\n",
      "470105/470105 [==============================] - 55s 117us/step - loss: 0.5102 - actions_loss: 0.4468 - reward_loss: 0.0635 - actions_acc: 0.8025 - reward_acc: 0.9677 - val_loss: 2.0577 - val_actions_loss: 1.3862 - val_reward_loss: 0.6715 - val_actions_acc: 0.5856 - val_reward_acc: 0.6538\n",
      "Epoch 46/150\n",
      "470105/470105 [==============================] - 55s 118us/step - loss: 0.4968 - actions_loss: 0.4358 - reward_loss: 0.0610 - actions_acc: 0.8071 - reward_acc: 0.9689 - val_loss: 2.1182 - val_actions_loss: 1.4811 - val_reward_loss: 0.6371 - val_actions_acc: 0.5860 - val_reward_acc: 0.6738\n",
      "Epoch 47/150\n",
      "470105/470105 [==============================] - 57s 120us/step - loss: 0.4860 - actions_loss: 0.4263 - reward_loss: 0.0597 - actions_acc: 0.8123 - reward_acc: 0.9695 - val_loss: 2.2037 - val_actions_loss: 1.5276 - val_reward_loss: 0.6760 - val_actions_acc: 0.5773 - val_reward_acc: 0.6536\n",
      "Epoch 48/150\n",
      "470105/470105 [==============================] - 56s 119us/step - loss: 0.4740 - actions_loss: 0.4158 - reward_loss: 0.0581 - actions_acc: 0.8166 - reward_acc: 0.9704 - val_loss: 2.1481 - val_actions_loss: 1.5066 - val_reward_loss: 0.6415 - val_actions_acc: 0.5743 - val_reward_acc: 0.6712\n",
      "Epoch 49/150\n",
      "470105/470105 [==============================] - 59s 126us/step - loss: 0.4629 - actions_loss: 0.4066 - reward_loss: 0.0563 - actions_acc: 0.8218 - reward_acc: 0.9713 - val_loss: 2.2506 - val_actions_loss: 1.5803 - val_reward_loss: 0.6703 - val_actions_acc: 0.5749 - val_reward_acc: 0.6566\n",
      "Epoch 50/150\n",
      "470105/470105 [==============================] - 58s 123us/step - loss: 0.4526 - actions_loss: 0.3977 - reward_loss: 0.0548 - actions_acc: 0.8261 - reward_acc: 0.9721 - val_loss: 2.3648 - val_actions_loss: 1.7044 - val_reward_loss: 0.6604 - val_actions_acc: 0.5780 - val_reward_acc: 0.6616\n",
      "Epoch 51/150\n",
      "470105/470105 [==============================] - 58s 123us/step - loss: 0.4408 - actions_loss: 0.3875 - reward_loss: 0.0532 - actions_acc: 0.8304 - reward_acc: 0.9729 - val_loss: 2.4083 - val_actions_loss: 1.7346 - val_reward_loss: 0.6738 - val_actions_acc: 0.5766 - val_reward_acc: 0.6541\n",
      "Epoch 52/150\n",
      "470105/470105 [==============================] - 58s 124us/step - loss: 0.4303 - actions_loss: 0.3786 - reward_loss: 0.0518 - actions_acc: 0.8354 - reward_acc: 0.9737 - val_loss: 2.3719 - val_actions_loss: 1.7684 - val_reward_loss: 0.6035 - val_actions_acc: 0.5698 - val_reward_acc: 0.6920\n",
      "Epoch 53/150\n",
      "470105/470105 [==============================] - 58s 124us/step - loss: 0.4192 - actions_loss: 0.3688 - reward_loss: 0.0504 - actions_acc: 0.8395 - reward_acc: 0.9744 - val_loss: 2.4142 - val_actions_loss: 1.7146 - val_reward_loss: 0.6996 - val_actions_acc: 0.5763 - val_reward_acc: 0.6406\n",
      "Epoch 54/150\n",
      "470105/470105 [==============================] - 61s 131us/step - loss: 0.4106 - actions_loss: 0.3609 - reward_loss: 0.0497 - actions_acc: 0.8432 - reward_acc: 0.9748 - val_loss: 2.5454 - val_actions_loss: 1.9542 - val_reward_loss: 0.5912 - val_actions_acc: 0.5650 - val_reward_acc: 0.6977\n",
      "Epoch 55/150\n"
     ]
    },
    {
     "name": "stdout",
     "output_type": "stream",
     "text": [
      "470105/470105 [==============================] - 58s 123us/step - loss: 0.3997 - actions_loss: 0.3507 - reward_loss: 0.0491 - actions_acc: 0.8486 - reward_acc: 0.9751 - val_loss: 2.7031 - val_actions_loss: 1.9717 - val_reward_loss: 0.7315 - val_actions_acc: 0.5725 - val_reward_acc: 0.6249\n",
      "Epoch 56/150\n",
      "470105/470105 [==============================] - 60s 127us/step - loss: 0.3916 - actions_loss: 0.3435 - reward_loss: 0.0481 - actions_acc: 0.8516 - reward_acc: 0.9756 - val_loss: 2.4500 - val_actions_loss: 1.8398 - val_reward_loss: 0.6102 - val_actions_acc: 0.5743 - val_reward_acc: 0.6880\n",
      "Epoch 57/150\n",
      "470105/470105 [==============================] - 59s 124us/step - loss: 0.3823 - actions_loss: 0.3345 - reward_loss: 0.0478 - actions_acc: 0.8556 - reward_acc: 0.9757 - val_loss: 2.4585 - val_actions_loss: 1.8287 - val_reward_loss: 0.6298 - val_actions_acc: 0.5683 - val_reward_acc: 0.6773\n",
      "Epoch 58/150\n",
      "470105/470105 [==============================] - 59s 125us/step - loss: 0.3726 - actions_loss: 0.3257 - reward_loss: 0.0469 - actions_acc: 0.8602 - reward_acc: 0.9762 - val_loss: 2.6858 - val_actions_loss: 2.0484 - val_reward_loss: 0.6374 - val_actions_acc: 0.5682 - val_reward_acc: 0.6739\n",
      "Epoch 59/150\n",
      "470105/470105 [==============================] - 52s 111us/step - loss: 0.3661 - actions_loss: 0.3201 - reward_loss: 0.0460 - actions_acc: 0.8629 - reward_acc: 0.9766 - val_loss: 2.4546 - val_actions_loss: 1.8311 - val_reward_loss: 0.6236 - val_actions_acc: 0.5653 - val_reward_acc: 0.6816\n",
      "Epoch 60/150\n",
      "470105/470105 [==============================] - 59s 125us/step - loss: 0.3557 - actions_loss: 0.3103 - reward_loss: 0.0454 - actions_acc: 0.8671 - reward_acc: 0.9769 - val_loss: 2.4901 - val_actions_loss: 1.8503 - val_reward_loss: 0.6398 - val_actions_acc: 0.5672 - val_reward_acc: 0.6726\n",
      "Epoch 61/150\n",
      "470105/470105 [==============================] - 58s 124us/step - loss: 0.3470 - actions_loss: 0.3031 - reward_loss: 0.0439 - actions_acc: 0.8713 - reward_acc: 0.9777 - val_loss: 2.6401 - val_actions_loss: 2.0030 - val_reward_loss: 0.6371 - val_actions_acc: 0.5758 - val_reward_acc: 0.6741\n",
      "Epoch 62/150\n",
      "470105/470105 [==============================] - 58s 124us/step - loss: 0.3381 - actions_loss: 0.2951 - reward_loss: 0.0429 - actions_acc: 0.8741 - reward_acc: 0.9782 - val_loss: 2.7270 - val_actions_loss: 2.0835 - val_reward_loss: 0.6435 - val_actions_acc: 0.5704 - val_reward_acc: 0.6699\n",
      "Epoch 63/150\n",
      "470105/470105 [==============================] - 60s 129us/step - loss: 0.3325 - actions_loss: 0.2905 - reward_loss: 0.0420 - actions_acc: 0.8771 - reward_acc: 0.9786 - val_loss: 2.6696 - val_actions_loss: 2.0273 - val_reward_loss: 0.6423 - val_actions_acc: 0.5620 - val_reward_acc: 0.6722\n",
      "Epoch 64/150\n",
      "470105/470105 [==============================] - 60s 129us/step - loss: 0.3214 - actions_loss: 0.2810 - reward_loss: 0.0403 - actions_acc: 0.8810 - reward_acc: 0.9795 - val_loss: 2.8379 - val_actions_loss: 2.1443 - val_reward_loss: 0.6936 - val_actions_acc: 0.5701 - val_reward_acc: 0.6453\n",
      "Epoch 65/150\n",
      "470105/470105 [==============================] - 57s 120us/step - loss: 0.3148 - actions_loss: 0.2749 - reward_loss: 0.0399 - actions_acc: 0.8841 - reward_acc: 0.9797 - val_loss: 2.7728 - val_actions_loss: 2.0936 - val_reward_loss: 0.6792 - val_actions_acc: 0.5686 - val_reward_acc: 0.6517\n",
      "Epoch 66/150\n",
      "470105/470105 [==============================] - 60s 128us/step - loss: 0.3089 - actions_loss: 0.2690 - reward_loss: 0.0399 - actions_acc: 0.8867 - reward_acc: 0.9797 - val_loss: 3.0446 - val_actions_loss: 2.3956 - val_reward_loss: 0.6490 - val_actions_acc: 0.5633 - val_reward_acc: 0.6678\n",
      "Epoch 67/150\n",
      "421888/470105 [=========================>....] - ETA: 5s - loss: 0.3018 - actions_loss: 0.2625 - reward_loss: 0.0394 - actions_acc: 0.8898 - reward_acc: 0.9800"
     ]
    }
   ],
   "source": [
    "trainer.train(observations, labels, rewards, batch_size=batch_size, \n",
    "              epochs=epochs, early_stopping=early_stopping, class_weight=[class_weights, 1])"
   ]
  },
  {
   "cell_type": "code",
   "execution_count": null,
   "metadata": {},
   "outputs": [],
   "source": [
    "print(\"finish\")"
   ]
  },
  {
   "cell_type": "code",
   "execution_count": null,
   "metadata": {},
   "outputs": [],
   "source": [
    "trainer.model.save(model_path)"
   ]
  }
 ],
 "metadata": {
  "kernelspec": {
   "display_name": "Python 3",
   "language": "python",
   "name": "python3"
  },
  "language_info": {
   "codemirror_mode": {
    "name": "ipython",
    "version": 3
   },
   "file_extension": ".py",
   "mimetype": "text/x-python",
   "name": "python",
   "nbconvert_exporter": "python",
   "pygments_lexer": "ipython3",
   "version": "3.6.5"
  }
 },
 "nbformat": 4,
 "nbformat_minor": 2
}
