{
 "cells": [
  {
   "cell_type": "code",
   "execution_count": 2,
   "metadata": {},
   "outputs": [],
   "source": [
    "import numpy as np\n",
    "\n",
    "from tqdm import tqdm_notebook as tqdm\n",
    "from pommerman.constants import BOARD_SIZE"
   ]
  },
  {
   "cell_type": "code",
   "execution_count": 3,
   "metadata": {},
   "outputs": [],
   "source": [
    "obs_path = \"./dagger/train_data5/obs.npy\"\n",
    "done_path = \"./dagger/train_data5/done.npy\"\n",
    "reward_path = \"./dagger/train_data5/reward.npy\"\n",
    "labels_path = \"./dagger/train_data5/labels.npy\"\n",
    "\n",
    "obs_new_path = './dagger/train_data5/obs.npy'\n",
    "reward_new_path = './dagger/train_data5/reward.npy'\n",
    "labels_new_path = './dagger/train_data5/labels.npy'\n",
    "map_new_path = './dagger/train_data5/obs_map.npy'"
   ]
  },
  {
   "cell_type": "code",
   "execution_count": 4,
   "metadata": {},
   "outputs": [],
   "source": [
    "obs = np.load(obs_path)\n",
    "dones = np.load(done_path)\n",
    "rewards = np.load(reward_path)\n",
    "labels = np.load(labels_path)"
   ]
  },
  {
   "cell_type": "code",
   "execution_count": 6,
   "metadata": {},
   "outputs": [
    {
     "name": "stdout",
     "output_type": "stream",
     "text": [
      "done\n"
     ]
    }
   ],
   "source": [
    "print(\"done\")"
   ]
  },
  {
   "cell_type": "code",
   "execution_count": 7,
   "metadata": {},
   "outputs": [],
   "source": [
    "result_obs = []\n",
    "result_rewards = []\n",
    "result_labels = []"
   ]
  },
  {
   "cell_type": "code",
   "execution_count": 8,
   "metadata": {},
   "outputs": [],
   "source": [
    "def featurize(obs):\n",
    "    shape = (BOARD_SIZE, BOARD_SIZE, 1)\n",
    "\n",
    "    def get_matrix(dict, key):\n",
    "        res = dict[key]\n",
    "        return res.reshape(shape).astype(np.float32)\n",
    "\n",
    "    def get_map(board, item):\n",
    "        map = np.zeros(shape)\n",
    "        map[board == item] = 1\n",
    "        return map\n",
    "\n",
    "    board = get_matrix(obs, 'board')\n",
    "\n",
    "    # TODO: probably not needed Passage = 0\n",
    "    rigid_map = get_map(board, 1)               # Rigid = 1\n",
    "    wood_map = get_map(board, 2)                # Wood = 2\n",
    "    bomb_map = get_map(board, 3)                # Bomb = 3\n",
    "    flames_map = get_map(board, 4)              # Flames = 4\n",
    "    fog_map = get_map(board, 5)                 # TODO: not used for first two stages Fog = 5\n",
    "    extra_bomb_map = get_map(board, 6)          # ExtraBomb = 6\n",
    "    incr_range_map = get_map(board, 7)          # IncrRange = 7\n",
    "    kick_map = get_map(board, 8)                # Kick = 8\n",
    "    skull_map = get_map(board, 9)               # Skull = 9\n",
    "\n",
    "    position = obs[\"position\"]\n",
    "    my_position = np.zeros(shape)\n",
    "    my_position[position[0], position[1], 0] = 1\n",
    "\n",
    "    team_mates = get_map(board, obs[\"teammate\"].value) # TODO during documentation it should be an array\n",
    "\n",
    "    enemies = np.zeros(shape)\n",
    "    for enemy in obs[\"enemies\"]:\n",
    "        enemies[board == enemy.value] = 1\n",
    "\n",
    "    bomb_blast_strength = get_matrix(obs, 'bomb_blast_strength')\n",
    "    bomb_life = get_matrix(obs, 'bomb_life')\n",
    "\n",
    "    ammo = np.full((BOARD_SIZE, BOARD_SIZE, 1), obs[\"ammo\"])\n",
    "    blast_strength = np.full((BOARD_SIZE, BOARD_SIZE, 1), obs[\"blast_strength\"])\n",
    "    can_kick = np.full((BOARD_SIZE, BOARD_SIZE, 1), int(obs[\"can_kick\"]))\n",
    "\n",
    "    obs = np.concatenate([my_position, enemies, team_mates, rigid_map,\n",
    "                          wood_map, bomb_map, flames_map,\n",
    "                          fog_map, extra_bomb_map, incr_range_map,\n",
    "                          kick_map, skull_map, bomb_blast_strength,\n",
    "                          bomb_life, ammo, blast_strength, can_kick], axis=2)\n",
    "    return obs    "
   ]
  },
  {
   "cell_type": "code",
   "execution_count": 9,
   "metadata": {},
   "outputs": [],
   "source": [
    "for i in range(4):\n",
    "    ob = obs[:,i]\n",
    "    reward = rewards[:,i]\n",
    "    label = labels[:,i]\n",
    "    \n",
    "    idx = np.where(reward>-1)\n",
    "    ob = ob[idx]\n",
    "    reward = reward[idx]\n",
    "    label = label[idx]\n",
    "    \n",
    "    result_obs.extend(ob)\n",
    "    result_rewards.extend(reward)\n",
    "    result_labels.extend(label)"
   ]
  },
  {
   "cell_type": "code",
   "execution_count": 10,
   "metadata": {},
   "outputs": [],
   "source": [
    "result_obs = np.array(result_obs)\n",
    "result_rewards = np.array(result_rewards)\n",
    "result_labels = np.array(result_labels)"
   ]
  },
  {
   "cell_type": "code",
   "execution_count": 11,
   "metadata": {},
   "outputs": [
    {
     "data": {
      "text/plain": [
       "(1588939,)"
      ]
     },
     "execution_count": 11,
     "metadata": {},
     "output_type": "execute_result"
    }
   ],
   "source": [
    "result_obs.shape"
   ]
  },
  {
   "cell_type": "code",
   "execution_count": 12,
   "metadata": {},
   "outputs": [],
   "source": [
    "np.save(obs_new_path, result_obs)\n",
    "np.save(reward_new_path, result_rewards)\n",
    "np.save(labels_new_path, result_labels)"
   ]
  },
  {
   "cell_type": "code",
   "execution_count": 13,
   "metadata": {},
   "outputs": [
    {
     "data": {
      "application/vnd.jupyter.widget-view+json": {
       "model_id": "ae627f9563c44a7696dfc86eb5d28945",
       "version_major": 2,
       "version_minor": 0
      },
      "text/plain": [
       "HBox(children=(IntProgress(value=0, max=1588939), HTML(value='')))"
      ]
     },
     "metadata": {},
     "output_type": "display_data"
    },
    {
     "name": "stdout",
     "output_type": "stream",
     "text": [
      "\n"
     ]
    }
   ],
   "source": [
    "temp = []\n",
    "for obs in tqdm(result_obs):\n",
    "    temp.append(featurize(obs))\n",
    "result_obs = np.array(temp)"
   ]
  },
  {
   "cell_type": "code",
   "execution_count": 14,
   "metadata": {},
   "outputs": [
    {
     "data": {
      "text/plain": [
       "(1588939, 11, 11, 17)"
      ]
     },
     "execution_count": 14,
     "metadata": {},
     "output_type": "execute_result"
    }
   ],
   "source": [
    "result_obs.shape"
   ]
  },
  {
   "cell_type": "code",
   "execution_count": 15,
   "metadata": {},
   "outputs": [
    {
     "data": {
      "text/plain": [
       "array([0.23930371, 0.189276  , 0.17057924, 0.18006733, 0.18439978,\n",
       "       0.03637396], dtype=float32)"
      ]
     },
     "execution_count": 15,
     "metadata": {},
     "output_type": "execute_result"
    }
   ],
   "source": [
    "np.sum(result_labels, axis=0) / np.sum(result_labels)"
   ]
  },
  {
   "cell_type": "code",
   "execution_count": null,
   "metadata": {},
   "outputs": [],
   "source": [
    "np.save(map_new_path, result_obs)"
   ]
  },
  {
   "cell_type": "code",
   "execution_count": null,
   "metadata": {},
   "outputs": [],
   "source": [
    "print(\"dat\")"
   ]
  }
 ],
 "metadata": {
  "kernelspec": {
   "display_name": "Python 3",
   "language": "python",
   "name": "python3"
  },
  "language_info": {
   "codemirror_mode": {
    "name": "ipython",
    "version": 3
   },
   "file_extension": ".py",
   "mimetype": "text/x-python",
   "name": "python",
   "nbconvert_exporter": "python",
   "pygments_lexer": "ipython3",
   "version": "3.6.5"
  }
 },
 "nbformat": 4,
 "nbformat_minor": 2
}
