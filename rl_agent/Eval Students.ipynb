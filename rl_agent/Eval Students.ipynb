{
 "cells": [
  {
   "cell_type": "code",
   "execution_count": 24,
   "metadata": {},
   "outputs": [],
   "source": [
    "import pommerman\n",
    "from pommerman import agents\n",
    "from pommerman.constants import BOARD_SIZE\n",
    "import numpy as np\n",
    "import time\n",
    "import os\n",
    "from keras.layers import Input, Dense, Flatten, Convolution2D, BatchNormalization, Activation, Add\n",
    "from keras.models import Model\n",
    "import keras.backend as K\n",
    "import tensorflow as tf\n",
    "from matplotlib import pyplot as plt\n",
    "%matplotlib inline"
   ]
  },
  {
   "cell_type": "code",
   "execution_count": 2,
   "metadata": {},
   "outputs": [],
   "source": [
    "model_path = './supervised_learning/model/go_3res_block/model.h4'"
   ]
  },
  {
   "cell_type": "code",
   "execution_count": 3,
   "metadata": {},
   "outputs": [],
   "source": [
    "# make sure TF does not allocate all memory\n",
    "# NB! this needs to be done also in subprocesses!\n",
    "config = tf.ConfigProto()\n",
    "config.gpu_options.allow_growth = True\n",
    "K.set_session(tf.Session(config=config))"
   ]
  },
  {
   "cell_type": "code",
   "execution_count": 4,
   "metadata": {},
   "outputs": [],
   "source": [
    "class Trainer(agents.BaseAgent):\n",
    "    def __init__(self, actions, save_path, save_best_only=True, seed=0):\n",
    "        super().__init__()\n",
    "        K.clear_session()\n",
    "        self.save_path = save_path\n",
    "        self.actions = actions\n",
    "        self.save_best_only = save_best_only\n",
    "        \n",
    "        # Create model\n",
    "        self.model = self.create_model(actions)\n",
    "        # Load model if exists\n",
    "        if not os.path.isdir(os.path.dirname(save_path)):\n",
    "            os.makedirs(os.path.dirname(save_path))            \n",
    "        if os.path.isfile(self.save_path):\n",
    "            try:\n",
    "                print(\"Trying to load model\")\n",
    "                self.model.load_weights(self.save_path)\n",
    "                print(\"Model was loaded successful\")\n",
    "            except:\n",
    "                print(\"Model load failed\")\n",
    "        \n",
    "    def get_res_block(self, input):\n",
    "        # Res block 1        \n",
    "        x = Convolution2D(256, 3, padding='same')(input)\n",
    "        x = BatchNormalization()(x)\n",
    "        x = Activation('relu')(x)\n",
    "        x = Convolution2D(256, 3, padding='same')(x)\n",
    "        x = BatchNormalization()(x)\n",
    "        x = Add()([input, x])\n",
    "        x = Activation('relu')(x)\n",
    "        return x\n",
    "        \n",
    "    def create_model(self, actions, input_shape=(11, 11, 18,)):\n",
    "        inp = Input(input_shape)\n",
    "        x = Convolution2D(256, 3, padding='same')(inp)\n",
    "        x = BatchNormalization()(x)\n",
    "        x = Activation('relu')(x)\n",
    "        \n",
    "        # 3 residual blocks\n",
    "        for i in range(3):\n",
    "            x = self.get_res_block(x)\n",
    "        \n",
    "        # Output block\n",
    "        # Should be 2 filters\n",
    "        x = Convolution2D(2, 1, padding='same')(x)\n",
    "        x = BatchNormalization()(x)   \n",
    "        x = Activation('relu')(x)\n",
    "        x = Flatten()(x)  \n",
    "        \n",
    "        probs  = Dense(actions, activation='softmax', name='actions')(x)\n",
    "        reward = Dense(1, name='reward')(x)\n",
    "        \n",
    "        model = Model(inputs = inp, outputs=[probs, reward])\n",
    "        model.compile(optimizer='adam', loss=['categorical_crossentropy', 'mae'], metrics=['accuracy'])\n",
    "        return model\n",
    "        \n",
    "    def featurize(self, obs):\n",
    "        shape = (BOARD_SIZE, BOARD_SIZE, 1)\n",
    "\n",
    "        def get_matrix(board, key):\n",
    "            res = board[key]\n",
    "            return res.reshape(shape).astype(np.float32)\n",
    "\n",
    "        def get_map(board, item):\n",
    "            map = np.zeros(shape)\n",
    "            map[board == item] = 1\n",
    "            return map\n",
    "\n",
    "        board = get_matrix(obs, 'board')\n",
    "\n",
    "        path_map       = get_map(board, 0)          # Empty space\n",
    "        rigid_map      = get_map(board, 1)          # Rigid = 1\n",
    "        wood_map       = get_map(board, 2)          # Wood = 2\n",
    "        bomb_map       = get_map(board, 3)          # Bomb = 3\n",
    "        flames_map     = get_map(board, 4)          # Flames = 4\n",
    "        fog_map        = get_map(board, 5)          # TODO: not used for first two stages Fog = 5\n",
    "        extra_bomb_map = get_map(board, 6)          # ExtraBomb = 6\n",
    "        incr_range_map = get_map(board, 7)          # IncrRange = 7\n",
    "        kick_map       = get_map(board, 8)          # Kick = 8\n",
    "        skull_map      = get_map(board, 9)          # Skull = 9\n",
    "\n",
    "        position = obs[\"position\"]\n",
    "        my_position = np.zeros(shape)\n",
    "        my_position[position[0], position[1], 0] = 1\n",
    "\n",
    "        team_mates = get_map(board, obs[\"teammate\"].value) # TODO during documentation it should be an array\n",
    "\n",
    "        enemies = np.zeros(shape)\n",
    "        for enemy in obs[\"enemies\"]:\n",
    "            enemies[board == enemy.value] = 1\n",
    "\n",
    "        bomb_blast_strength = get_matrix(obs, 'bomb_blast_strength')\n",
    "        bomb_life           = get_matrix(obs, 'bomb_life')\n",
    "\n",
    "        ammo           = np.full((BOARD_SIZE, BOARD_SIZE, 1), obs[\"ammo\"])\n",
    "        blast_strength = np.full((BOARD_SIZE, BOARD_SIZE, 1), obs[\"blast_strength\"])\n",
    "        can_kick       = np.full((BOARD_SIZE, BOARD_SIZE, 1), int(obs[\"can_kick\"]))\n",
    "\n",
    "        obs = np.concatenate([my_position, enemies, team_mates, path_map, rigid_map, \n",
    "                              wood_map, bomb_map, flames_map, fog_map, extra_bomb_map,\n",
    "                              incr_range_map, kick_map, skull_map, bomb_blast_strength,\n",
    "                              bomb_life, ammo, blast_strength, can_kick], axis=2)\n",
    "        return obs.astype(np.int16)\n",
    "    \n",
    "    def act(self, obs, action_space):\n",
    "        feat = self.featurize(obs)\n",
    "        probs = self.model.predict(feat[np.newaxis])\n",
    "        action = np.argmax(probs[0])\n",
    "        return action"
   ]
  },
  {
   "cell_type": "code",
   "execution_count": 5,
   "metadata": {},
   "outputs": [],
   "source": [
    "def eval(env, num_episodes):\n",
    "    rewards = []\n",
    "    lengths = []\n",
    "    start_time = time.time()\n",
    "    # Run the episodes just like OpenAI Gym\n",
    "    for i_episode in range(num_episodes):\n",
    "        state = env.reset()\n",
    "        done = False\n",
    "        lens = [None] * 4\n",
    "        t = 0\n",
    "        while not done:\n",
    "            #env.render()\n",
    "            actions = env.act(state)\n",
    "            state, reward, done, info = env.step(actions)\n",
    "            for j in range(4):\n",
    "                if lens[j] is None and reward[j] != 0:\n",
    "                    lens[j] = t\n",
    "            t += 1\n",
    "        rewards.append(reward)\n",
    "        lengths.append(lens)\n",
    "        print('Episode {} finished'.format(i_episode))\n",
    "    elapsed = time.time() - start_time\n",
    "    return rewards, lengths, elapsed"
   ]
  },
  {
   "cell_type": "code",
   "execution_count": 6,
   "metadata": {},
   "outputs": [],
   "source": [
    "num_episodes = 100"
   ]
  },
  {
   "cell_type": "code",
   "execution_count": 7,
   "metadata": {
    "scrolled": true
   },
   "outputs": [
    {
     "name": "stdout",
     "output_type": "stream",
     "text": [
      "Trying to load model\n"
     ]
    },
    {
     "name": "stderr",
     "output_type": "stream",
     "text": [
      "[2018-06-15 14:34:50,006] Making new env: PommeFFACompetition-v0\n"
     ]
    },
    {
     "name": "stdout",
     "output_type": "stream",
     "text": [
      "Model was loaded successful\n",
      "Episode 0 finished\n",
      "Episode 1 finished\n",
      "Episode 2 finished\n",
      "Episode 3 finished\n",
      "Episode 4 finished\n",
      "Episode 5 finished\n",
      "Episode 6 finished\n",
      "Episode 7 finished\n",
      "Episode 8 finished\n",
      "Episode 9 finished\n",
      "Episode 10 finished\n",
      "Episode 11 finished\n",
      "Episode 12 finished\n",
      "Episode 13 finished\n",
      "Episode 14 finished\n",
      "Episode 15 finished\n",
      "Episode 16 finished\n",
      "Episode 17 finished\n",
      "Episode 18 finished\n",
      "Episode 19 finished\n",
      "Episode 20 finished\n",
      "Episode 21 finished\n",
      "Episode 22 finished\n",
      "Episode 23 finished\n",
      "Episode 24 finished\n",
      "Episode 25 finished\n",
      "Episode 26 finished\n",
      "Episode 27 finished\n",
      "Episode 28 finished\n",
      "Episode 29 finished\n",
      "Episode 30 finished\n",
      "Episode 31 finished\n",
      "Episode 32 finished\n",
      "Episode 33 finished\n",
      "Episode 34 finished\n",
      "Episode 35 finished\n",
      "Episode 36 finished\n",
      "Episode 37 finished\n",
      "Episode 38 finished\n",
      "Episode 39 finished\n",
      "Episode 40 finished\n",
      "Episode 41 finished\n",
      "Episode 42 finished\n",
      "Episode 43 finished\n",
      "Episode 44 finished\n",
      "Episode 45 finished\n",
      "Episode 46 finished\n",
      "Episode 47 finished\n",
      "Episode 48 finished\n",
      "Episode 49 finished\n",
      "Episode 50 finished\n",
      "Episode 51 finished\n",
      "Episode 52 finished\n",
      "Episode 53 finished\n",
      "Episode 54 finished\n",
      "Episode 55 finished\n",
      "Episode 56 finished\n",
      "Episode 57 finished\n",
      "Episode 58 finished\n",
      "Episode 59 finished\n",
      "Episode 60 finished\n",
      "Episode 61 finished\n",
      "Episode 62 finished\n",
      "Episode 63 finished\n",
      "Episode 64 finished\n",
      "Episode 65 finished\n",
      "Episode 66 finished\n",
      "Episode 67 finished\n",
      "Episode 68 finished\n",
      "Episode 69 finished\n",
      "Episode 70 finished\n",
      "Episode 71 finished\n",
      "Episode 72 finished\n",
      "Episode 73 finished\n",
      "Episode 74 finished\n",
      "Episode 75 finished\n",
      "Episode 76 finished\n",
      "Episode 77 finished\n",
      "Episode 78 finished\n",
      "Episode 79 finished\n",
      "Episode 80 finished\n",
      "Episode 81 finished\n",
      "Episode 82 finished\n",
      "Episode 83 finished\n",
      "Episode 84 finished\n",
      "Episode 85 finished\n",
      "Episode 86 finished\n",
      "Episode 87 finished\n",
      "Episode 88 finished\n",
      "Episode 89 finished\n",
      "Episode 90 finished\n",
      "Episode 91 finished\n",
      "Episode 92 finished\n",
      "Episode 93 finished\n",
      "Episode 94 finished\n",
      "Episode 95 finished\n",
      "Episode 96 finished\n",
      "Episode 97 finished\n",
      "Episode 98 finished\n",
      "Episode 99 finished\n"
     ]
    }
   ],
   "source": [
    "# Create a set of agents (exactly four)\n",
    "agent_list = [\n",
    "    Trainer(6, model_path),\n",
    "    agents.SimpleAgent(),\n",
    "    agents.SimpleAgent(),\n",
    "    agents.SimpleAgent(),\n",
    "]\n",
    "\n",
    "# Make the \"Free-For-All\" environment using the agent list\n",
    "env = pommerman.make('PommeFFACompetition-v0', agent_list)\n",
    "\n",
    "rewards0, lengths0, elapsed0 = eval(env, num_episodes)"
   ]
  },
  {
   "cell_type": "code",
   "execution_count": 10,
   "metadata": {
    "scrolled": true
   },
   "outputs": [
    {
     "name": "stdout",
     "output_type": "stream",
     "text": [
      "Trying to load model\n"
     ]
    },
    {
     "name": "stderr",
     "output_type": "stream",
     "text": [
      "[2018-06-15 14:56:02,487] Making new env: PommeFFACompetition-v0\n"
     ]
    },
    {
     "name": "stdout",
     "output_type": "stream",
     "text": [
      "Model was loaded successful\n",
      "Episode 0 finished\n",
      "Episode 1 finished\n",
      "Episode 2 finished\n",
      "Episode 3 finished\n",
      "Episode 4 finished\n",
      "Episode 5 finished\n",
      "Episode 6 finished\n",
      "Episode 7 finished\n",
      "Episode 8 finished\n",
      "Episode 9 finished\n",
      "Episode 10 finished\n",
      "Episode 11 finished\n",
      "Episode 12 finished\n",
      "Episode 13 finished\n",
      "Episode 14 finished\n",
      "Episode 15 finished\n",
      "Episode 16 finished\n",
      "Episode 17 finished\n",
      "Episode 18 finished\n",
      "Episode 19 finished\n",
      "Episode 20 finished\n",
      "Episode 21 finished\n",
      "Episode 22 finished\n",
      "Episode 23 finished\n",
      "Episode 24 finished\n",
      "Episode 25 finished\n",
      "Episode 26 finished\n",
      "Episode 27 finished\n",
      "Episode 28 finished\n",
      "Episode 29 finished\n",
      "Episode 30 finished\n",
      "Episode 31 finished\n",
      "Episode 32 finished\n",
      "Episode 33 finished\n",
      "Episode 34 finished\n",
      "Episode 35 finished\n",
      "Episode 36 finished\n",
      "Episode 37 finished\n",
      "Episode 38 finished\n",
      "Episode 39 finished\n",
      "Episode 40 finished\n",
      "Episode 41 finished\n",
      "Episode 42 finished\n",
      "Episode 43 finished\n",
      "Episode 44 finished\n",
      "Episode 45 finished\n",
      "Episode 46 finished\n",
      "Episode 47 finished\n",
      "Episode 48 finished\n",
      "Episode 49 finished\n",
      "Episode 50 finished\n",
      "Episode 51 finished\n",
      "Episode 52 finished\n",
      "Episode 53 finished\n",
      "Episode 54 finished\n",
      "Episode 55 finished\n",
      "Episode 56 finished\n",
      "Episode 57 finished\n",
      "Episode 58 finished\n",
      "Episode 59 finished\n",
      "Episode 60 finished\n",
      "Episode 61 finished\n",
      "Episode 62 finished\n",
      "Episode 63 finished\n",
      "Episode 64 finished\n",
      "Episode 65 finished\n",
      "Episode 66 finished\n",
      "Episode 67 finished\n",
      "Episode 68 finished\n",
      "Episode 69 finished\n",
      "Episode 70 finished\n",
      "Episode 71 finished\n",
      "Episode 72 finished\n",
      "Episode 73 finished\n",
      "Episode 74 finished\n",
      "Episode 75 finished\n",
      "Episode 76 finished\n",
      "Episode 77 finished\n",
      "Episode 78 finished\n",
      "Episode 79 finished\n",
      "Episode 80 finished\n",
      "Episode 81 finished\n",
      "Episode 82 finished\n",
      "Episode 83 finished\n",
      "Episode 84 finished\n",
      "Episode 85 finished\n",
      "Episode 86 finished\n",
      "Episode 87 finished\n",
      "Episode 88 finished\n",
      "Episode 89 finished\n",
      "Episode 90 finished\n",
      "Episode 91 finished\n",
      "Episode 92 finished\n",
      "Episode 93 finished\n",
      "Episode 94 finished\n",
      "Episode 95 finished\n",
      "Episode 96 finished\n",
      "Episode 97 finished\n",
      "Episode 98 finished\n",
      "Episode 99 finished\n"
     ]
    }
   ],
   "source": [
    "#### Create a set of agents (exactly four)\n",
    "agent_list = [\n",
    "    agents.SimpleAgent(),\n",
    "    Trainer(6, model_path),\n",
    "    agents.SimpleAgent(),\n",
    "    agents.SimpleAgent(),\n",
    "]\n",
    "\n",
    "# Make the \"Free-For-All\" environment using the agent list\n",
    "env = pommerman.make('PommeFFACompetition-v0', agent_list)\n",
    "\n",
    "rewards1, lengths1, elapsed1 = eval(env, num_episodes)"
   ]
  },
  {
   "cell_type": "code",
   "execution_count": 11,
   "metadata": {
    "scrolled": true
   },
   "outputs": [
    {
     "name": "stdout",
     "output_type": "stream",
     "text": [
      "Trying to load model\n"
     ]
    },
    {
     "name": "stderr",
     "output_type": "stream",
     "text": [
      "[2018-06-15 15:12:23,511] Making new env: PommeFFACompetition-v0\n"
     ]
    },
    {
     "name": "stdout",
     "output_type": "stream",
     "text": [
      "Model was loaded successful\n",
      "Episode 0 finished\n",
      "Episode 1 finished\n",
      "Episode 2 finished\n",
      "Episode 3 finished\n",
      "Episode 4 finished\n",
      "Episode 5 finished\n",
      "Episode 6 finished\n",
      "Episode 7 finished\n",
      "Episode 8 finished\n",
      "Episode 9 finished\n",
      "Episode 10 finished\n",
      "Episode 11 finished\n",
      "Episode 12 finished\n",
      "Episode 13 finished\n",
      "Episode 14 finished\n",
      "Episode 15 finished\n",
      "Episode 16 finished\n",
      "Episode 17 finished\n",
      "Episode 18 finished\n",
      "Episode 19 finished\n",
      "Episode 20 finished\n",
      "Episode 21 finished\n",
      "Episode 22 finished\n",
      "Episode 23 finished\n",
      "Episode 24 finished\n",
      "Episode 25 finished\n",
      "Episode 26 finished\n",
      "Episode 27 finished\n",
      "Episode 28 finished\n",
      "Episode 29 finished\n",
      "Episode 30 finished\n",
      "Episode 31 finished\n",
      "Episode 32 finished\n",
      "Episode 33 finished\n",
      "Episode 34 finished\n",
      "Episode 35 finished\n",
      "Episode 36 finished\n",
      "Episode 37 finished\n",
      "Episode 38 finished\n",
      "Episode 39 finished\n",
      "Episode 40 finished\n",
      "Episode 41 finished\n",
      "Episode 42 finished\n",
      "Episode 43 finished\n",
      "Episode 44 finished\n",
      "Episode 45 finished\n",
      "Episode 46 finished\n",
      "Episode 47 finished\n",
      "Episode 48 finished\n",
      "Episode 49 finished\n",
      "Episode 50 finished\n",
      "Episode 51 finished\n",
      "Episode 52 finished\n",
      "Episode 53 finished\n",
      "Episode 54 finished\n",
      "Episode 55 finished\n",
      "Episode 56 finished\n",
      "Episode 57 finished\n",
      "Episode 58 finished\n",
      "Episode 59 finished\n",
      "Episode 60 finished\n",
      "Episode 61 finished\n",
      "Episode 62 finished\n",
      "Episode 63 finished\n",
      "Episode 64 finished\n",
      "Episode 65 finished\n",
      "Episode 66 finished\n",
      "Episode 67 finished\n",
      "Episode 68 finished\n",
      "Episode 69 finished\n",
      "Episode 70 finished\n",
      "Episode 71 finished\n",
      "Episode 72 finished\n",
      "Episode 73 finished\n",
      "Episode 74 finished\n",
      "Episode 75 finished\n",
      "Episode 76 finished\n",
      "Episode 77 finished\n",
      "Episode 78 finished\n",
      "Episode 79 finished\n",
      "Episode 80 finished\n",
      "Episode 81 finished\n",
      "Episode 82 finished\n",
      "Episode 83 finished\n",
      "Episode 84 finished\n",
      "Episode 85 finished\n",
      "Episode 86 finished\n",
      "Episode 87 finished\n",
      "Episode 88 finished\n",
      "Episode 89 finished\n",
      "Episode 90 finished\n",
      "Episode 91 finished\n",
      "Episode 92 finished\n",
      "Episode 93 finished\n",
      "Episode 94 finished\n",
      "Episode 95 finished\n",
      "Episode 96 finished\n",
      "Episode 97 finished\n",
      "Episode 98 finished\n",
      "Episode 99 finished\n"
     ]
    }
   ],
   "source": [
    "# Create a set of agents (exactly four)\n",
    "agent_list = [\n",
    "    agents.SimpleAgent(),\n",
    "    agents.SimpleAgent(),\n",
    "    Trainer(6, model_path),\n",
    "    agents.SimpleAgent(),\n",
    "]\n",
    "\n",
    "# Make the \"Free-For-All\" environment using the agent list\n",
    "env = pommerman.make('PommeFFACompetition-v0', agent_list)\n",
    "\n",
    "rewards2, lengths2, elapsed2 = eval(env, num_episodes)"
   ]
  },
  {
   "cell_type": "code",
   "execution_count": 12,
   "metadata": {
    "scrolled": true
   },
   "outputs": [
    {
     "name": "stdout",
     "output_type": "stream",
     "text": [
      "Trying to load model\n"
     ]
    },
    {
     "name": "stderr",
     "output_type": "stream",
     "text": [
      "[2018-06-15 15:31:18,084] Making new env: PommeFFACompetition-v0\n"
     ]
    },
    {
     "name": "stdout",
     "output_type": "stream",
     "text": [
      "Model was loaded successful\n",
      "Episode 0 finished\n",
      "Episode 1 finished\n",
      "Episode 2 finished\n",
      "Episode 3 finished\n",
      "Episode 4 finished\n",
      "Episode 5 finished\n",
      "Episode 6 finished\n",
      "Episode 7 finished\n",
      "Episode 8 finished\n",
      "Episode 9 finished\n",
      "Episode 10 finished\n",
      "Episode 11 finished\n",
      "Episode 12 finished\n",
      "Episode 13 finished\n",
      "Episode 14 finished\n",
      "Episode 15 finished\n",
      "Episode 16 finished\n",
      "Episode 17 finished\n",
      "Episode 18 finished\n",
      "Episode 19 finished\n",
      "Episode 20 finished\n",
      "Episode 21 finished\n",
      "Episode 22 finished\n",
      "Episode 23 finished\n",
      "Episode 24 finished\n",
      "Episode 25 finished\n",
      "Episode 26 finished\n",
      "Episode 27 finished\n",
      "Episode 28 finished\n",
      "Episode 29 finished\n",
      "Episode 30 finished\n",
      "Episode 31 finished\n",
      "Episode 32 finished\n",
      "Episode 33 finished\n",
      "Episode 34 finished\n",
      "Episode 35 finished\n",
      "Episode 36 finished\n",
      "Episode 37 finished\n",
      "Episode 38 finished\n",
      "Episode 39 finished\n",
      "Episode 40 finished\n",
      "Episode 41 finished\n",
      "Episode 42 finished\n",
      "Episode 43 finished\n",
      "Episode 44 finished\n",
      "Episode 45 finished\n",
      "Episode 46 finished\n",
      "Episode 47 finished\n",
      "Episode 48 finished\n",
      "Episode 49 finished\n",
      "Episode 50 finished\n",
      "Episode 51 finished\n",
      "Episode 52 finished\n",
      "Episode 53 finished\n",
      "Episode 54 finished\n",
      "Episode 55 finished\n",
      "Episode 56 finished\n",
      "Episode 57 finished\n",
      "Episode 58 finished\n",
      "Episode 59 finished\n",
      "Episode 60 finished\n",
      "Episode 61 finished\n",
      "Episode 62 finished\n",
      "Episode 63 finished\n",
      "Episode 64 finished\n",
      "Episode 65 finished\n",
      "Episode 66 finished\n",
      "Episode 67 finished\n",
      "Episode 68 finished\n",
      "Episode 69 finished\n",
      "Episode 70 finished\n",
      "Episode 71 finished\n",
      "Episode 72 finished\n",
      "Episode 73 finished\n",
      "Episode 74 finished\n",
      "Episode 75 finished\n",
      "Episode 76 finished\n",
      "Episode 77 finished\n",
      "Episode 78 finished\n",
      "Episode 79 finished\n",
      "Episode 80 finished\n",
      "Episode 81 finished\n",
      "Episode 82 finished\n",
      "Episode 83 finished\n",
      "Episode 84 finished\n",
      "Episode 85 finished\n",
      "Episode 86 finished\n",
      "Episode 87 finished\n",
      "Episode 88 finished\n",
      "Episode 89 finished\n",
      "Episode 90 finished\n",
      "Episode 91 finished\n",
      "Episode 92 finished\n",
      "Episode 93 finished\n",
      "Episode 94 finished\n",
      "Episode 95 finished\n",
      "Episode 96 finished\n",
      "Episode 97 finished\n",
      "Episode 98 finished\n",
      "Episode 99 finished\n"
     ]
    }
   ],
   "source": [
    "# Create a set of agents (exactly four)\n",
    "agent_list = [\n",
    "    agents.SimpleAgent(),\n",
    "    agents.SimpleAgent(),\n",
    "    agents.SimpleAgent(),\n",
    "    Trainer(6, model_path),\n",
    "]\n",
    "\n",
    "# Make the \"Free-For-All\" environment using the agent list\n",
    "env = pommerman.make('PommeFFACompetition-v0', agent_list)\n",
    "\n",
    "rewards3, lengths3, elapsed3 = eval(env, num_episodes)"
   ]
  },
  {
   "cell_type": "code",
   "execution_count": 13,
   "metadata": {},
   "outputs": [],
   "source": [
    "rewards = [(r0[0], r1[1], r2[2], r3[3]) for r0, r1, r2, r3 in zip(rewards0, rewards1, rewards2, rewards3)]"
   ]
  },
  {
   "cell_type": "code",
   "execution_count": 14,
   "metadata": {},
   "outputs": [],
   "source": [
    "lengths = [(l0[0], l1[1], l2[2], l3[3]) for l0, l1, l2, l3 in zip(lengths0, lengths1, lengths2, lengths3)]"
   ]
  },
  {
   "cell_type": "code",
   "execution_count": 15,
   "metadata": {},
   "outputs": [
    {
     "data": {
      "text/plain": [
       "(array([-0.56, -0.58, -0.56, -0.48]),\n",
       " array([0.82849261, 0.81461647, 0.82849261, 0.87726849]))"
      ]
     },
     "execution_count": 15,
     "metadata": {},
     "output_type": "execute_result"
    }
   ],
   "source": [
    "np.mean(rewards, axis=0), np.std(rewards, axis=0)"
   ]
  },
  {
   "cell_type": "code",
   "execution_count": 16,
   "metadata": {},
   "outputs": [
    {
     "data": {
      "text/plain": [
       "(array([349.94, 256.33, 353.82, 280.97]),\n",
       " array([283.20451338, 238.45435853, 280.99104541, 251.10577273]))"
      ]
     },
     "execution_count": 16,
     "metadata": {},
     "output_type": "execute_result"
    }
   ],
   "source": [
    "np.mean(lengths, axis=0), np.std(lengths, axis=0)"
   ]
  },
  {
   "cell_type": "code",
   "execution_count": 17,
   "metadata": {},
   "outputs": [
    {
     "data": {
      "text/plain": [
       "(-0.545, 0.8384360440725338)"
      ]
     },
     "execution_count": 17,
     "metadata": {},
     "output_type": "execute_result"
    }
   ],
   "source": [
    "np.mean(rewards), np.std(rewards)"
   ]
  },
  {
   "cell_type": "code",
   "execution_count": 18,
   "metadata": {},
   "outputs": [
    {
     "data": {
      "text/plain": [
       "(310.265, 267.5414356225966)"
      ]
     },
     "execution_count": 18,
     "metadata": {},
     "output_type": "execute_result"
    }
   ],
   "source": [
    "np.mean(lengths), np.std(lengths)"
   ]
  },
  {
   "cell_type": "code",
   "execution_count": 19,
   "metadata": {},
   "outputs": [
    {
     "data": {
      "text/plain": [
       "(4248.225102901459, 169108, 0.025121372749375894)"
      ]
     },
     "execution_count": 19,
     "metadata": {},
     "output_type": "execute_result"
    }
   ],
   "source": [
    "elapsed = elapsed0 + elapsed1 + elapsed2 + elapsed3\n",
    "total_timesteps = np.sum(np.max(np.concatenate([lengths0, lengths1, lengths2, lengths3], axis=0), axis=1))\n",
    "elapsed, total_timesteps, elapsed / total_timesteps"
   ]
  },
  {
   "cell_type": "code",
   "execution_count": 20,
   "metadata": {},
   "outputs": [],
   "source": [
    "np.savez_compressed(\"./eval_students/eval_students_%d.npz\" % num_episodes, rewards=rewards, lengths=lengths, elapsed=elapsed, total_timesteps=total_timesteps,\n",
    "                   rewards0=rewards0, rewards1=rewards1, rewards2=rewards2, rewards3=rewards3,\n",
    "                   lengths0=lengths0, lengths1=lengths1, lengths2=lengths2, lengths3=lengths3,\n",
    "                   elapsed0=elapsed0, elapsed1=elapsed1, elapsed2=elapsed2, elapsed3=elapsed3)"
   ]
  },
  {
   "cell_type": "code",
   "execution_count": 21,
   "metadata": {},
   "outputs": [
    {
     "data": {
      "text/plain": [
       "(array([-0.56, -0.78, -0.6 , -0.78]),\n",
       " array([0.82849261, 0.62577951, 0.8       , 0.62577951]))"
      ]
     },
     "execution_count": 21,
     "metadata": {},
     "output_type": "execute_result"
    }
   ],
   "source": [
    "np.mean(rewards0, axis=0), np.std(rewards0, axis=0)"
   ]
  },
  {
   "cell_type": "code",
   "execution_count": 22,
   "metadata": {},
   "outputs": [
    {
     "data": {
      "text/plain": [
       "(array([349.94, 231.33, 315.25, 243.95]),\n",
       " array([283.20451338, 239.89893935, 261.90129343, 254.97538607]))"
      ]
     },
     "execution_count": 22,
     "metadata": {},
     "output_type": "execute_result"
    }
   ],
   "source": [
    "np.mean(lengths0, axis=0), np.std(lengths0, axis=0)"
   ]
  },
  {
   "cell_type": "code",
   "execution_count": 23,
   "metadata": {},
   "outputs": [
    {
     "data": {
      "text/plain": [
       "(1116.254555940628, 44324, 0.025183976083851367)"
      ]
     },
     "execution_count": 23,
     "metadata": {},
     "output_type": "execute_result"
    }
   ],
   "source": [
    "elapsed = elapsed0\n",
    "total_timesteps = np.sum(np.max(lengths0, axis=1))\n",
    "elapsed, total_timesteps, elapsed / total_timesteps"
   ]
  },
  {
   "cell_type": "code",
   "execution_count": 27,
   "metadata": {},
   "outputs": [
    {
     "data": {
      "image/png": "[encoded data removed]",
      "text/plain": [
       "<matplotlib.figure.Figure at 0x2405749e4e0>"
      ]
     },
     "metadata": {},
     "output_type": "display_data"
    }
   ],
   "source": [
    "plt.bar([0,1,2,3], np.mean(rewards, axis=0))\n",
    "plt.show()"
   ]
  },
  {
   "cell_type": "code",
   "execution_count": 28,
   "metadata": {},
   "outputs": [
    {
     "data": {
      "text/plain": [
       "-0.545"
      ]
     },
     "execution_count": 28,
     "metadata": {},
     "output_type": "execute_result"
    }
   ],
   "source": [
    "np.mean(rewards)"
   ]
  }
 ],
 "metadata": {
  "kernelspec": {
   "display_name": "Python 3",
   "language": "python",
   "name": "python3"
  },
  "language_info": {
   "codemirror_mode": {
    "name": "ipython",
    "version": 3
   },
   "file_extension": ".py",
   "mimetype": "text/x-python",
   "name": "python",
   "nbconvert_exporter": "python",
   "pygments_lexer": "ipython3",
   "version": "3.6.5"
  }
 },
 "nbformat": 4,
 "nbformat_minor": 2
}
