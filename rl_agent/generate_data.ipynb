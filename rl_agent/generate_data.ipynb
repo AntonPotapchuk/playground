{
 "cells": [
  {
   "cell_type": "code",
   "execution_count": 1,
   "metadata": {},
   "outputs": [
    {
     "name": "stdout",
     "output_type": "stream",
     "text": [
      "Import error! You will not be able to render --> Cannot connect to \"None\"\n"
     ]
    }
   ],
   "source": [
    "import numpy as np\n",
    "import os\n",
    "\n",
    "from copy import deepcopy\n",
    "from pommerman.agents import SimpleAgent\n",
    "from pommerman.configs import ffa_competition_env\n",
    "from pommerman.constants import BOARD_SIZE\n",
    "from pommerman.envs.v0 import Pomme\n",
    "from tqdm import tqdm_notebook as tqdm\n",
    "from matplotlib import pyplot as plt\n",
    "\n",
    "%matplotlib inline"
   ]
  },
  {
   "cell_type": "code",
   "execution_count": 145,
   "metadata": {},
   "outputs": [],
   "source": [
    "initial_rollouts   = 600\n",
    "min_episode_length = 35 \n",
    "\n",
    "train_data_path    = './dataset/'\n",
    "train_data_obs     = os.path.join(train_data_path, 'obs.npy')\n",
    "train_data_labels  = os.path.join(train_data_path, 'labels.npy')\n",
    "train_data_reward  = os.path.join(train_data_path, 'reward.npy')\n",
    "train_data_obs_map = os.path.join(train_data_path, 'obs_map.npy')\n",
    "\n",
    "if not os.path.isdir(train_data_path):\n",
    "    os.makedirs(train_data_path)"
   ]
  },
  {
   "cell_type": "code",
   "execution_count": 3,
   "metadata": {},
   "outputs": [],
   "source": [
    "class Episode:   \n",
    "    def __init__(self, agent_id, episode_id):\n",
    "        self.agent_id = agent_id\n",
    "        self.episode_id = episode_id\n",
    "        self.observations = []\n",
    "        self.actions = []\n",
    "        self.reward = []\n",
    "        self.done = False        \n",
    "        \n",
    "    def record(self, obs, action, reward):\n",
    "        self.observations.append(deepcopy(obs))\n",
    "        self.actions.append(deepcopy(action))\n",
    "        # Agent not win or not die\n",
    "        if reward != 0:\n",
    "            self.done = True\n",
    "            self.reward = [reward] * self.get_num_steps()\n",
    "        \n",
    "    def get_num_steps(self):\n",
    "        return len(self.observations)        "
   ]
  },
  {
   "cell_type": "code",
   "execution_count": 4,
   "metadata": {},
   "outputs": [],
   "source": [
    "# Environment wrapper\n",
    "class Stimulator:\n",
    "    def __init__(self, env):\n",
    "        self.env = env\n",
    "        self.episodes = []\n",
    "        \n",
    "    def record(self, agents, obs, actions, rewards):        \n",
    "        for agent_id in range(len(agents)): \n",
    "            agent = agents[agent_id]\n",
    "            # If an agent is dead (or win) we should not record a history\n",
    "            if not agent.done:    \n",
    "                agent.record(obs[agent_id], actions[agent_id], rewards[agent_id])\n",
    "\n",
    "    def stimulate(self, num_rollouts):\n",
    "        for cur_episode in tqdm(range(num_rollouts)):\n",
    "            # Create a history for each agent\n",
    "            agents = []                \n",
    "            for agent_id in range(4):\n",
    "                agents.append(Episode(agent_id, cur_episode))            \n",
    "            \n",
    "            done = False     \n",
    "            # Obtain initial observations\n",
    "            obs = self.env.reset()\n",
    "            try:\n",
    "                while not done:\n",
    "                    # FUCK self.env.act change \"POSITION\"!!!!\n",
    "                    obs_to_save = deepcopy(obs)                    \n",
    "                    # Produce actions\n",
    "                    actions = self.env.act(obs)\n",
    "                    # Make an episode step. Save an observations as new_obs, because we want to record previous one\n",
    "                    obs, rewards, done, _ = self.env.step(actions)\n",
    "                    # Record observations and actions\n",
    "                    self.record(agents, obs_to_save, actions, rewards)                    \n",
    "            except:\n",
    "                print(\"Error occurs\")\n",
    "                continue            \n",
    "            self.episodes.extend(agents)\n",
    "    \n",
    "    def get_episodes(self):\n",
    "        return deepcopy(self.episodes)"
   ]
  },
  {
   "cell_type": "code",
   "execution_count": 5,
   "metadata": {},
   "outputs": [
    {
     "name": "stdout",
     "output_type": "stream",
     "text": [
      "\u001b[33mWARN: gym.spaces.Box autodetected dtype as <class 'numpy.float32'>. Please provide explicit dtype.\u001b[0m\n"
     ]
    }
   ],
   "source": [
    "# Instantiate the environment\n",
    "config = ffa_competition_env()\n",
    "env = Pomme(**config[\"env_kwargs\"])\n",
    "\n",
    "# Random seed\n",
    "env.seed(0)\n",
    "\n",
    "# Add agents\n",
    "agents = []\n",
    "for agent_id in range(4):\n",
    "    agents.append(SimpleAgent(config[\"agent\"](agent_id, config[\"game_type\"])))\n",
    "env.set_agents(agents)\n",
    "env.set_init_game_state(None)"
   ]
  },
  {
   "cell_type": "code",
   "execution_count": 7,
   "metadata": {
    "scrolled": true
   },
   "outputs": [
    {
     "data": {
      "application/vnd.jupyter.widget-view+json": {
       "model_id": "2dfb6417985641e3b308081563ce4a6a",
       "version_major": 2,
       "version_minor": 0
      },
      "text/plain": [
       "HBox(children=(IntProgress(value=0, max=600), HTML(value='')))"
      ]
     },
     "metadata": {},
     "output_type": "display_data"
    },
    {
     "name": "stdout",
     "output_type": "stream",
     "text": [
      "\n"
     ]
    }
   ],
   "source": [
    "# Generate training data\n",
    "stimulator = Stimulator(env)\n",
    "stimulator.stimulate(initial_rollouts)"
   ]
  },
  {
   "cell_type": "code",
   "execution_count": 10,
   "metadata": {},
   "outputs": [
    {
     "data": {
      "text/plain": [
       "2400"
      ]
     },
     "execution_count": 10,
     "metadata": {},
     "output_type": "execute_result"
    }
   ],
   "source": [
    "episodes = stimulator.get_episodes()\n",
    "len(episodes)"
   ]
  },
  {
   "cell_type": "code",
   "execution_count": 11,
   "metadata": {},
   "outputs": [
    {
     "data": {
      "application/vnd.jupyter.widget-view+json": {
       "model_id": "27d377f50c204aa88786b3105b35769c",
       "version_major": 2,
       "version_minor": 0
      },
      "text/plain": [
       "HBox(children=(IntProgress(value=0, max=2400), HTML(value='')))"
      ]
     },
     "metadata": {},
     "output_type": "display_data"
    },
    {
     "name": "stdout",
     "output_type": "stream",
     "text": [
      "\n"
     ]
    }
   ],
   "source": [
    "for episode in tqdm(episodes):\n",
    "    for observation in episode.observations:\n",
    "        board = observation['board']\n",
    "        pos   = observation['position']    \n",
    "        if board[pos[0], pos[1]] != (episode.agent_id + 10):\n",
    "            print(\"ERROR\")"
   ]
  },
  {
   "cell_type": "markdown",
   "metadata": {},
   "source": [
    "## Win/Lose in corners"
   ]
  },
  {
   "cell_type": "code",
   "execution_count": 23,
   "metadata": {},
   "outputs": [
    {
     "data": {
      "image/png": "[encoded data removed]",
      "text/plain": [
       "<Figure size 432x288 with 1 Axes>"
      ]
     },
     "metadata": {},
     "output_type": "display_data"
    }
   ],
   "source": [
    "wins = []\n",
    "loses = []\n",
    "\n",
    "for episode in episodes:\n",
    "    if episode.reward[-1] == -1:\n",
    "        loses.append(episode.agent_id)\n",
    "    elif episode.reward[-1] == 1:\n",
    "        wins.append(episode.agent_id)\n",
    "    else:\n",
    "        print(\"FUCK\")\n",
    "\n",
    "plt.hist(loses)\n",
    "plt.hist(wins)\n",
    "plt.show()"
   ]
  },
  {
   "cell_type": "code",
   "execution_count": 24,
   "metadata": {},
   "outputs": [
    {
     "data": {
      "text/plain": [
       "array([429, 412, 463, 447])"
      ]
     },
     "execution_count": 24,
     "metadata": {},
     "output_type": "execute_result"
    }
   ],
   "source": [
    "np.bincount(loses)"
   ]
  },
  {
   "cell_type": "markdown",
   "metadata": {},
   "source": [
    "## Episode length"
   ]
  },
  {
   "cell_type": "code",
   "execution_count": 25,
   "metadata": {},
   "outputs": [
    {
     "data": {
      "image/png": "[encoded data removed]",
      "text/plain": [
       "<Figure size 1224x288 with 1 Axes>"
      ]
     },
     "metadata": {},
     "output_type": "display_data"
    }
   ],
   "source": [
    "episode_length = []\n",
    "for episode in episodes:\n",
    "    episode_length.append(episode.get_num_steps())\n",
    "    \n",
    "plt.figure(figsize=(17,4))\n",
    "plt.bar(range(0, len(episode_length)), episode_length)\n",
    "plt.plot([0, len(episode_length)], [np.mean(episode_length), np.mean(episode_length)], 'r')\n",
    "plt.legend(['mean', 'episode length'])\n",
    "plt.show()"
   ]
  },
  {
   "cell_type": "code",
   "execution_count": 26,
   "metadata": {},
   "outputs": [
    {
     "data": {
      "text/plain": [
       "(10, 801, 24)"
      ]
     },
     "execution_count": 26,
     "metadata": {},
     "output_type": "execute_result"
    }
   ],
   "source": [
    "np.min(episode_length), np.max(episode_length), np.sum(np.array(episode_length) < 30)"
   ]
  },
  {
   "cell_type": "markdown",
   "metadata": {},
   "source": [
    "## Rewards"
   ]
  },
  {
   "cell_type": "code",
   "execution_count": 27,
   "metadata": {},
   "outputs": [
    {
     "data": {
      "image/png": "[encoded data removed]",
      "text/plain": [
       "<Figure size 1224x288 with 3 Axes>"
      ]
     },
     "metadata": {},
     "output_type": "display_data"
    }
   ],
   "source": [
    "nr_wins = [0] * 4\n",
    "nr_loose = [0] * 4\n",
    "nr_tie = [0] * 4\n",
    "average_score = [[], [], [], []]\n",
    "\n",
    "for episode in episodes:\n",
    "    if episode.reward[-1] == 1:\n",
    "        nr_wins[episode.agent_id] += 1\n",
    "    else:\n",
    "        nr_loose[episode.agent_id] += 1\n",
    "    average_score[episode.agent_id].append(episode.reward[-1])\n",
    "average_score[0] = np.mean(average_score[0])\n",
    "average_score[1] = np.mean(average_score[1])\n",
    "average_score[2] = np.mean(average_score[2])\n",
    "average_score[3] = np.mean(average_score[3])\n",
    "\n",
    "plt.figure(figsize=(17,4))\n",
    "plt.subplot(141)\n",
    "plt.bar(range(0,4), nr_wins)\n",
    "plt.title('nr_wins')\n",
    "plt.subplot(142)\n",
    "plt.bar(range(0,4), nr_loose)\n",
    "plt.title('nr_loose')\n",
    "plt.subplot(143)\n",
    "plt.bar(range(0,4), average_score)\n",
    "plt.title('average_score')\n",
    "plt.show()"
   ]
  },
  {
   "cell_type": "markdown",
   "metadata": {},
   "source": [
    "## Consequtive actions"
   ]
  },
  {
   "cell_type": "code",
   "execution_count": 28,
   "metadata": {},
   "outputs": [],
   "source": [
    "actions_length = []\n",
    "for episode in episodes:\n",
    "    current_action = episode.actions[0]\n",
    "    action_length = 0\n",
    "    for action in episode.actions:\n",
    "        if current_action != action:\n",
    "            actions_length.append(action_length)            \n",
    "            current_action = action\n",
    "            action_length = 0\n",
    "        action_length += 1"
   ]
  },
  {
   "cell_type": "code",
   "execution_count": 29,
   "metadata": {},
   "outputs": [
    {
     "data": {
      "text/plain": [
       "(1.5650022195810003, 1.0, 13)"
      ]
     },
     "execution_count": 29,
     "metadata": {},
     "output_type": "execute_result"
    }
   ],
   "source": [
    "np.mean(actions_length), np.median(actions_length), np.max(actions_length)"
   ]
  },
  {
   "cell_type": "code",
   "execution_count": 30,
   "metadata": {},
   "outputs": [
    {
     "data": {
      "image/png": "[encoded data removed]",
      "text/plain": [
       "<Figure size 1224x720 with 1 Axes>"
      ]
     },
     "metadata": {},
     "output_type": "display_data"
    }
   ],
   "source": [
    "plt.figure(figsize=(17,10))\n",
    "plt.plot(actions_length)\n",
    "plt.plot([np.mean(actions_length)] * len(actions_length))\n",
    "plt.title('action length')\n",
    "plt.show()"
   ]
  },
  {
   "cell_type": "markdown",
   "metadata": {},
   "source": [
    "## Actions frequency"
   ]
  },
  {
   "cell_type": "code",
   "execution_count": 31,
   "metadata": {},
   "outputs": [
    {
     "data": {
      "image/png": "[encoded data removed]",
      "text/plain": [
       "<Figure size 1224x720 with 1 Axes>"
      ]
     },
     "metadata": {},
     "output_type": "display_data"
    }
   ],
   "source": [
    "actions_count = np.zeros(6)\n",
    "for episode in episodes:    \n",
    "    for action in episode.actions:\n",
    "        actions_count[action] += 1\n",
    "        \n",
    "plt.figure(figsize=(17,10))\n",
    "plt.bar(range(0,6), actions_count)\n",
    "plt.title('actions count')\n",
    "plt.show()"
   ]
  },
  {
   "cell_type": "markdown",
   "metadata": {},
   "source": [
    "# Some data preprocessing"
   ]
  },
  {
   "cell_type": "markdown",
   "metadata": {},
   "source": [
    "Remove episodes with too small length. Maybe it is suicide."
   ]
  },
  {
   "cell_type": "code",
   "execution_count": 21,
   "metadata": {},
   "outputs": [
    {
     "data": {
      "text/plain": [
       "2202"
      ]
     },
     "execution_count": 21,
     "metadata": {},
     "output_type": "execute_result"
    }
   ],
   "source": [
    "episodes = [episode for episode in episodes if episode.get_num_steps() > 35 or episode.reward[-1] == 1]\n",
    "len(episodes)"
   ]
  },
  {
   "cell_type": "markdown",
   "metadata": {},
   "source": [
    "Let's remove consequtive actions. I will use threshold 12."
   ]
  },
  {
   "cell_type": "code",
   "execution_count": 22,
   "metadata": {},
   "outputs": [
    {
     "data": {
      "application/vnd.jupyter.widget-view+json": {
       "model_id": "05d8b36b07b747e293db0625f8e906b6",
       "version_major": 2,
       "version_minor": 0
      },
      "text/plain": [
       "HBox(children=(IntProgress(value=0, max=2202), HTML(value='')))"
      ]
     },
     "metadata": {},
     "output_type": "display_data"
    },
    {
     "name": "stdout",
     "output_type": "stream",
     "text": [
      "\n"
     ]
    }
   ],
   "source": [
    "threshold = 12\n",
    "\n",
    "for episode in tqdm(episodes):\n",
    "    # New observations\n",
    "    obs = []\n",
    "    act = []\n",
    "    rew = []\n",
    "    \n",
    "    # Initial values\n",
    "    cur_action = episode.actions[0]\n",
    "    seq_length = 0\n",
    "    for ind in range(len(episode.actions)):\n",
    "        # Current action\n",
    "        action = episode.actions[ind]\n",
    "        \n",
    "        # If an action the same\n",
    "        if action == cur_action:\n",
    "            seq_length += 1\n",
    "        else:\n",
    "            seq_length = 0\n",
    "            cur_action = action\n",
    "        # If a sequence is less than threashold\n",
    "        if seq_length <= threshold:\n",
    "            obs.append(episode.observations[ind])\n",
    "            act.append(episode.actions[ind])\n",
    "            rew.append(episode.reward[ind])\n",
    "    \n",
    "    # Save preprocessed observations\n",
    "    episode.actions      = act\n",
    "    episode.observations = obs\n",
    "    episode.reward       = rew"
   ]
  },
  {
   "cell_type": "markdown",
   "metadata": {},
   "source": [
    "Let's rerun plots."
   ]
  },
  {
   "cell_type": "markdown",
   "metadata": {},
   "source": [
    "## Save stuff"
   ]
  },
  {
   "cell_type": "code",
   "execution_count": 32,
   "metadata": {},
   "outputs": [],
   "source": [
    "observations = []\n",
    "actions = []\n",
    "rewards = []\n",
    "for episode in episodes:\n",
    "    observations.extend(episode.observations)\n",
    "    actions.extend(episode.actions)\n",
    "    rewards.extend(episode.reward)\n",
    "\n",
    "observations = np.array(observations)\n",
    "actions = np.array(actions)\n",
    "rewards = np.array(rewards)"
   ]
  },
  {
   "cell_type": "code",
   "execution_count": 33,
   "metadata": {},
   "outputs": [],
   "source": [
    "np.save(train_data_obs, observations)\n",
    "np.save(train_data_labels, actions)\n",
    "np.save(train_data_reward, rewards)"
   ]
  },
  {
   "cell_type": "code",
   "execution_count": null,
   "metadata": {},
   "outputs": [],
   "source": [
    "observations = np.load(train_data_obs)\n",
    "actions      = np.load(train_data_labels)\n",
    "rewards      = np.load(train_data_reward)"
   ]
  },
  {
   "cell_type": "code",
   "execution_count": 34,
   "metadata": {},
   "outputs": [
    {
     "data": {
      "text/plain": [
       "((553065,), (553065,), (553065,))"
      ]
     },
     "execution_count": 34,
     "metadata": {},
     "output_type": "execute_result"
    }
   ],
   "source": [
    "observations.shape, actions.shape, rewards.shape"
   ]
  },
  {
   "cell_type": "markdown",
   "metadata": {},
   "source": [
    "## Featurize"
   ]
  },
  {
   "cell_type": "code",
   "execution_count": 143,
   "metadata": {},
   "outputs": [],
   "source": [
    "def featurize(obs):\n",
    "    shape = (BOARD_SIZE, BOARD_SIZE, 1)\n",
    "\n",
    "    def get_matrix(board, key):\n",
    "        res = board[key]\n",
    "        return res.reshape(shape).astype(np.float32)\n",
    "\n",
    "    def get_map(board, item):\n",
    "        map = np.zeros(shape)\n",
    "        map[board == item] = 1\n",
    "        return map\n",
    "\n",
    "    board = get_matrix(obs, 'board')\n",
    "\n",
    "    path_map       = get_map(board, 0)          # Empty space\n",
    "    rigid_map      = get_map(board, 1)          # Rigid = 1\n",
    "    wood_map       = get_map(board, 2)          # Wood = 2\n",
    "    bomb_map       = get_map(board, 3)          # Bomb = 3\n",
    "    flames_map     = get_map(board, 4)          # Flames = 4\n",
    "    fog_map        = get_map(board, 5)          # TODO: not used for first two stages Fog = 5\n",
    "    extra_bomb_map = get_map(board, 6)          # ExtraBomb = 6\n",
    "    incr_range_map = get_map(board, 7)          # IncrRange = 7\n",
    "    kick_map       = get_map(board, 8)          # Kick = 8\n",
    "    skull_map      = get_map(board, 9)          # Skull = 9\n",
    "\n",
    "    position = obs[\"position\"]\n",
    "    my_position = np.zeros(shape)\n",
    "    my_position[position[0], position[1], 0] = 1\n",
    "\n",
    "    team_mates = get_map(board, obs[\"teammate\"].value) # TODO during documentation it should be an array\n",
    "\n",
    "    enemies = np.zeros(shape)\n",
    "    for enemy in obs[\"enemies\"]:\n",
    "        enemies[board == enemy.value] = 1\n",
    "\n",
    "    bomb_blast_strength = get_matrix(obs, 'bomb_blast_strength')\n",
    "    bomb_life           = get_matrix(obs, 'bomb_life')\n",
    "\n",
    "    ammo           = np.full((BOARD_SIZE, BOARD_SIZE, 1), obs[\"ammo\"])\n",
    "    blast_strength = np.full((BOARD_SIZE, BOARD_SIZE, 1), obs[\"blast_strength\"])\n",
    "    can_kick       = np.full((BOARD_SIZE, BOARD_SIZE, 1), int(obs[\"can_kick\"]))\n",
    "    \n",
    "    obs = np.concatenate([my_position, enemies, team_mates, path_map, rigid_map, \n",
    "                          wood_map, bomb_map, flames_map, fog_map, extra_bomb_map,\n",
    "                          incr_range_map, kick_map, skull_map, bomb_blast_strength,\n",
    "                          bomb_life, ammo, blast_strength, can_kick], axis=2)\n",
    "    return obs.astype(np.int16)"
   ]
  },
  {
   "cell_type": "code",
   "execution_count": 144,
   "metadata": {},
   "outputs": [
    {
     "data": {
      "application/vnd.jupyter.widget-view+json": {
       "model_id": "9bdc560bd9d04619a45c79de26ea9d10",
       "version_major": 2,
       "version_minor": 0
      },
      "text/plain": [
       "HBox(children=(IntProgress(value=0, max=553065), HTML(value='')))"
      ]
     },
     "metadata": {},
     "output_type": "display_data"
    },
    {
     "name": "stdout",
     "output_type": "stream",
     "text": [
      "\n"
     ]
    }
   ],
   "source": [
    "observations_map = []\n",
    "for obs in tqdm(observations):\n",
    "    observations_map.append(featurize(obs))"
   ]
  },
  {
   "cell_type": "code",
   "execution_count": 146,
   "metadata": {},
   "outputs": [],
   "source": [
    "np.save(train_data_obs_map, observations_map)"
   ]
  }
 ],
 "metadata": {
  "kernelspec": {
   "display_name": "Python 3",
   "language": "python",
   "name": "python3"
  },
  "language_info": {
   "codemirror_mode": {
    "name": "ipython",
    "version": 3
   },
   "file_extension": ".py",
   "mimetype": "text/x-python",
   "name": "python",
   "nbconvert_exporter": "python",
   "pygments_lexer": "ipython3",
   "version": "3.6.5"
  }
 },
 "nbformat": 4,
 "nbformat_minor": 2
}
