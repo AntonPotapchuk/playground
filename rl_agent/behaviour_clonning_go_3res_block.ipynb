{
 "cells": [
  {
   "cell_type": "code",
   "execution_count": 1,
   "metadata": {},
   "outputs": [
    {
     "name": "stderr",
     "output_type": "stream",
     "text": [
      "/gpfs/hpchome/anton95/.conda/envs/pommerman/lib/python3.6/importlib/_bootstrap.py:219: RuntimeWarning: compiletime version 3.5 of module 'tensorflow.python.framework.fast_tensor_util' does not match runtime version 3.6\n",
      "  return f(*args, **kwds)\n",
      "/gpfs/hpchome/anton95/.conda/envs/pommerman/lib/python3.6/site-packages/h5py/__init__.py:36: FutureWarning: Conversion of the second argument of issubdtype from `float` to `np.floating` is deprecated. In future, it will be treated as `np.float64 == np.dtype(float).type`.\n",
      "  from ._conv import register_converters as _register_converters\n",
      "Using TensorFlow backend.\n"
     ]
    },
    {
     "name": "stdout",
     "output_type": "stream",
     "text": [
      "Import error! You will not be able to render --> Cannot connect to \"None\"\n"
     ]
    }
   ],
   "source": [
    "import numpy as np\n",
    "import os\n",
    "import tensorflow as tf\n",
    "\n",
    "from keras.callbacks import EarlyStopping, ModelCheckpoint, ReduceLROnPlateau, CSVLogger, TensorBoard\n",
    "from keras.layers import Input, Dense, Flatten, Convolution2D, BatchNormalization, Activation, Add\n",
    "from keras.models import Model\n",
    "from keras.utils import to_categorical\n",
    "from keras import backend as K\n",
    "from pommerman.agents import BaseAgent, SimpleAgent\n",
    "from pommerman.configs import ffa_competition_env\n",
    "from pommerman.constants import BOARD_SIZE\n",
    "from pommerman.envs.v0 import Pomme\n",
    "from tqdm import tqdm_notebook as tqdm\n",
    "from sklearn.utils import class_weight"
   ]
  },
  {
   "cell_type": "code",
   "execution_count": 2,
   "metadata": {},
   "outputs": [],
   "source": [
    "batch_size = 2048\n",
    "epochs = 150\n",
    "early_stopping = 6\n",
    "\n",
    "log_path = './dagger/logs/il_go_3res_block/'\n",
    "model_path = './dagger/model/il_go_3res_block/model.h4'\n",
    "train_data_path = './dagger/train_data5/'\n",
    "train_data_obs = 'obs.npy'\n",
    "train_data_preprocessed = 'obs_map.npy'\n",
    "train_data_labels = 'labels.npy'"
   ]
  },
  {
   "cell_type": "code",
   "execution_count": 3,
   "metadata": {},
   "outputs": [],
   "source": [
    "class Agent:\n",
    "    def __init__(self, actions, seed=0, save_path=\"./dagger/model/model.h4\", \n",
    "                 log_path='./dagger/logs/', save_best_only=True):\n",
    "        K.clear_session()\n",
    "        self.log_path = log_path\n",
    "        self.save_path = save_path\n",
    "        self.actions = actions\n",
    "        self.save_best_only = save_best_only\n",
    "        self.rewards = []\n",
    "        self.current_epoch = 0        \n",
    "        \n",
    "        self.model = self.create_model(actions)\n",
    "        if not os.path.isdir(os.path.dirname(save_path)):\n",
    "            os.makedirs(os.path.dirname(save_path))            \n",
    "        if os.path.isfile(self.save_path):\n",
    "            try:\n",
    "                print(\"Trying to load model\")\n",
    "                self.model.load_weights(self.save_path)\n",
    "                print(\"Model was loaded successful\")\n",
    "            except:\n",
    "                print(\"Model load failed\")\n",
    "        \n",
    "    def get_res_block(self, input):\n",
    "        # Res block 1        \n",
    "        x = Convolution2D(256, 3, padding='same')(input)\n",
    "        x = BatchNormalization()(x)\n",
    "        x = Activation('relu')(x)\n",
    "        x = Convolution2D(256, 3, padding='same')(x)\n",
    "        x = BatchNormalization()(x)\n",
    "        x = Add()([input, x])\n",
    "        x = Activation('relu')(x)\n",
    "        return x\n",
    "        \n",
    "    def create_model(self, actions, input_shape=(11, 11, 17,)):\n",
    "        inp = Input(input_shape)\n",
    "        x = Convolution2D(256, 3, padding='same')(inp)\n",
    "        x = BatchNormalization()(x)\n",
    "        x = Activation('relu')(x)\n",
    "        \n",
    "        # Ten residual blocks\n",
    "        for i in range(3):\n",
    "            x = self.get_res_block(x)\n",
    "        \n",
    "        # Output block\n",
    "        # Should be 2 filters\n",
    "        x = Convolution2D(4, 1, padding='same')(x)\n",
    "        x = BatchNormalization()(x)   \n",
    "        x = Activation('relu')(x)\n",
    "        x = Flatten()(x)\n",
    "        out = Dense(actions, activation='softmax')(x)\n",
    "        model = Model(inputs = inp, outputs=out)\n",
    "        model.compile(optimizer='adam', loss='categorical_crossentropy', metrics=['accuracy'])\n",
    "        return model\n",
    "\n",
    "    def train(self, obs, labels, batch_size=16384, epochs=100, early_stopping = 10, class_weight=None, initial_epoch=0):\n",
    "        early_stopping = EarlyStopping(monitor='loss', patience=early_stopping)\n",
    "        checkpoint = ModelCheckpoint(self.save_path, monitor='loss', save_best_only=self.save_best_only)\n",
    "        reduce_lr = ReduceLROnPlateau(monitor='loss', patience=3, factor=0.8)\n",
    "        logger = CSVLogger(self.log_path + 'log.csv', append=True)\n",
    "        tensorboard = TensorBoard(self.log_path, batch_size=batch_size)\n",
    "        \n",
    "        history = self.model.fit(x=obs, y=labels, batch_size=batch_size, epochs=epochs, verbose=1,\n",
    "                       callbacks=[early_stopping, checkpoint, reduce_lr, logger, tensorboard],\n",
    "                       validation_split=0.15, shuffle=True, class_weight=class_weight, initial_epoch=initial_epoch)\n",
    "        self.model.load_weights(self.save_path)\n",
    "        self.current_epoch += len(history.history['lr'])\n",
    "\n",
    "    @staticmethod\n",
    "    def featurize(obs):\n",
    "        shape = (BOARD_SIZE, BOARD_SIZE, 1)\n",
    "\n",
    "        def get_matrix(dict, key):\n",
    "            res = dict[key]\n",
    "            return res.reshape(shape).astype(np.float32)\n",
    "\n",
    "        def get_map(board, item):\n",
    "            map = np.zeros(shape)\n",
    "            map[board == item] = 1\n",
    "            return map\n",
    "\n",
    "        board = get_matrix(obs, 'board')\n",
    "\n",
    "        # TODO: probably not needed Passage = 0\n",
    "        rigid_map = get_map(board, 1)               # Rigid = 1\n",
    "        wood_map = get_map(board, 2)                # Wood = 2\n",
    "        bomb_map = get_map(board, 3)                # Bomb = 3\n",
    "        flames_map = get_map(board, 4)              # Flames = 4\n",
    "        fog_map = get_map(board, 5)                 # TODO: not used for first two stages Fog = 5\n",
    "        extra_bomb_map = get_map(board, 6)          # ExtraBomb = 6\n",
    "        incr_range_map = get_map(board, 7)          # IncrRange = 7\n",
    "        kick_map = get_map(board, 8)                # Kick = 8\n",
    "        skull_map = get_map(board, 9)               # Skull = 9\n",
    "\n",
    "        position = obs[\"position\"]\n",
    "        my_position = np.zeros(shape)\n",
    "        my_position[position[0], position[1], 0] = 1\n",
    "\n",
    "        team_mates = get_map(board, obs[\"teammate\"].value) # TODO during documentation it should be an array\n",
    "\n",
    "        enemies = np.zeros(shape)\n",
    "        for enemy in obs[\"enemies\"]:\n",
    "            enemies[board == enemy.value] = 1\n",
    "\n",
    "        bomb_blast_strength = get_matrix(obs, 'bomb_blast_strength')\n",
    "        bomb_life = get_matrix(obs, 'bomb_life')\n",
    "\n",
    "        ammo = np.full((BOARD_SIZE, BOARD_SIZE, 1), obs[\"ammo\"])\n",
    "        blast_strength = np.full((BOARD_SIZE, BOARD_SIZE, 1), obs[\"blast_strength\"])\n",
    "        can_kick = np.full((BOARD_SIZE, BOARD_SIZE, 1), int(obs[\"can_kick\"]))\n",
    "\n",
    "        obs = np.concatenate([my_position, enemies, team_mates, rigid_map,\n",
    "                              wood_map, bomb_map, flames_map,\n",
    "                              fog_map, extra_bomb_map, incr_range_map,\n",
    "                              kick_map, skull_map, bomb_blast_strength,\n",
    "                              bomb_life, ammo, blast_strength, can_kick], axis=2)\n",
    "        return obs    "
   ]
  },
  {
   "cell_type": "code",
   "execution_count": 4,
   "metadata": {},
   "outputs": [],
   "source": [
    "if os.path.isdir(train_data_path):\n",
    "    if os.path.isfile(train_data_path + train_data_preprocessed):\n",
    "        full_obs = np.load(train_data_path + train_data_preprocessed)\n",
    "    else:\n",
    "        full_obs = np.load(train_data_path + train_data_obs)\n",
    "        temp = []\n",
    "        for obs in tqdm(full_obs):\n",
    "            temp.append(Agent.featurize(obs))\n",
    "        full_obs = np.array(temp)\n",
    "    full_labels = np.load(train_data_path + train_data_labels)\n",
    "else:\n",
    "    # Generate training data\n",
    "    training_data, _ = stimulator.stimulate(expert, num_rollouts=initial_rollouts)\n",
    "    full_obs = training_data[0]\n",
    "    full_labels = training_data[1]"
   ]
  },
  {
   "cell_type": "code",
   "execution_count": 5,
   "metadata": {},
   "outputs": [
    {
     "data": {
      "text/plain": [
       "array([0.15266687, 0.20545281, 0.19221762, 0.20086664, 0.20515   ,\n",
       "       0.04364607], dtype=float32)"
      ]
     },
     "execution_count": 5,
     "metadata": {},
     "output_type": "execute_result"
    }
   ],
   "source": [
    "np.sum(full_labels, axis=0) / np.sum(full_labels)"
   ]
  },
  {
   "cell_type": "code",
   "execution_count": 6,
   "metadata": {},
   "outputs": [],
   "source": [
    "# Shuffle data\n",
    "indices = np.arange(full_obs.shape[0])\n",
    "np.random.seed(0)\n",
    "np.random.shuffle(indices)\n",
    "\n",
    "full_labels = full_labels[indices]\n",
    "full_obs = full_obs[indices]"
   ]
  },
  {
   "cell_type": "code",
   "execution_count": 7,
   "metadata": {},
   "outputs": [
    {
     "name": "stdout",
     "output_type": "stream",
     "text": [
      "\u001b[33mWARN: gym.spaces.Box autodetected dtype as <class 'numpy.float32'>. Please provide explicit dtype.\u001b[0m\n",
      "Trying to load model\n",
      "Model was loaded successful\n"
     ]
    }
   ],
   "source": [
    "# Instantiate the environment\n",
    "config = ffa_competition_env()\n",
    "env = Pomme(**config[\"env_kwargs\"])\n",
    "agent = Agent(env.action_space.n, save_path=model_path, log_path=log_path)"
   ]
  },
  {
   "cell_type": "code",
   "execution_count": 8,
   "metadata": {},
   "outputs": [
    {
     "name": "stdout",
     "output_type": "stream",
     "text": [
      "__________________________________________________________________________________________________\n",
      "Layer (type)                    Output Shape         Param #     Connected to                     \n",
      "==================================================================================================\n",
      "input_1 (InputLayer)            (None, 11, 11, 17)   0                                            \n",
      "__________________________________________________________________________________________________\n",
      "conv2d_1 (Conv2D)               (None, 11, 11, 256)  39424       input_1[0][0]                    \n",
      "__________________________________________________________________________________________________\n",
      "batch_normalization_1 (BatchNor (None, 11, 11, 256)  1024        conv2d_1[0][0]                   \n",
      "__________________________________________________________________________________________________\n",
      "activation_1 (Activation)       (None, 11, 11, 256)  0           batch_normalization_1[0][0]      \n",
      "__________________________________________________________________________________________________\n",
      "conv2d_2 (Conv2D)               (None, 11, 11, 256)  590080      activation_1[0][0]               \n",
      "__________________________________________________________________________________________________\n",
      "batch_normalization_2 (BatchNor (None, 11, 11, 256)  1024        conv2d_2[0][0]                   \n",
      "__________________________________________________________________________________________________\n",
      "activation_2 (Activation)       (None, 11, 11, 256)  0           batch_normalization_2[0][0]      \n",
      "__________________________________________________________________________________________________\n",
      "conv2d_3 (Conv2D)               (None, 11, 11, 256)  590080      activation_2[0][0]               \n",
      "__________________________________________________________________________________________________\n",
      "batch_normalization_3 (BatchNor (None, 11, 11, 256)  1024        conv2d_3[0][0]                   \n",
      "__________________________________________________________________________________________________\n",
      "add_1 (Add)                     (None, 11, 11, 256)  0           activation_1[0][0]               \n",
      "                                                                 batch_normalization_3[0][0]      \n",
      "__________________________________________________________________________________________________\n",
      "activation_3 (Activation)       (None, 11, 11, 256)  0           add_1[0][0]                      \n",
      "__________________________________________________________________________________________________\n",
      "conv2d_4 (Conv2D)               (None, 11, 11, 256)  590080      activation_3[0][0]               \n",
      "__________________________________________________________________________________________________\n",
      "batch_normalization_4 (BatchNor (None, 11, 11, 256)  1024        conv2d_4[0][0]                   \n",
      "__________________________________________________________________________________________________\n",
      "activation_4 (Activation)       (None, 11, 11, 256)  0           batch_normalization_4[0][0]      \n",
      "__________________________________________________________________________________________________\n",
      "conv2d_5 (Conv2D)               (None, 11, 11, 256)  590080      activation_4[0][0]               \n",
      "__________________________________________________________________________________________________\n",
      "batch_normalization_5 (BatchNor (None, 11, 11, 256)  1024        conv2d_5[0][0]                   \n",
      "__________________________________________________________________________________________________\n",
      "add_2 (Add)                     (None, 11, 11, 256)  0           activation_3[0][0]               \n",
      "                                                                 batch_normalization_5[0][0]      \n",
      "__________________________________________________________________________________________________\n",
      "activation_5 (Activation)       (None, 11, 11, 256)  0           add_2[0][0]                      \n",
      "__________________________________________________________________________________________________\n",
      "conv2d_6 (Conv2D)               (None, 11, 11, 256)  590080      activation_5[0][0]               \n",
      "__________________________________________________________________________________________________\n",
      "batch_normalization_6 (BatchNor (None, 11, 11, 256)  1024        conv2d_6[0][0]                   \n",
      "__________________________________________________________________________________________________\n",
      "activation_6 (Activation)       (None, 11, 11, 256)  0           batch_normalization_6[0][0]      \n",
      "__________________________________________________________________________________________________\n",
      "conv2d_7 (Conv2D)               (None, 11, 11, 256)  590080      activation_6[0][0]               \n",
      "__________________________________________________________________________________________________\n",
      "batch_normalization_7 (BatchNor (None, 11, 11, 256)  1024        conv2d_7[0][0]                   \n",
      "__________________________________________________________________________________________________\n",
      "add_3 (Add)                     (None, 11, 11, 256)  0           activation_5[0][0]               \n",
      "                                                                 batch_normalization_7[0][0]      \n",
      "__________________________________________________________________________________________________\n",
      "activation_7 (Activation)       (None, 11, 11, 256)  0           add_3[0][0]                      \n",
      "__________________________________________________________________________________________________\n",
      "conv2d_8 (Conv2D)               (None, 11, 11, 4)    1028        activation_7[0][0]               \n",
      "__________________________________________________________________________________________________\n",
      "batch_normalization_8 (BatchNor (None, 11, 11, 4)    16          conv2d_8[0][0]                   \n",
      "__________________________________________________________________________________________________\n",
      "activation_8 (Activation)       (None, 11, 11, 4)    0           batch_normalization_8[0][0]      \n",
      "__________________________________________________________________________________________________\n",
      "flatten_1 (Flatten)             (None, 484)          0           activation_8[0][0]               \n",
      "__________________________________________________________________________________________________\n",
      "dense_1 (Dense)                 (None, 6)            2910        flatten_1[0][0]                  \n",
      "==================================================================================================\n",
      "Total params: 3,591,026\n",
      "Trainable params: 3,587,434\n",
      "Non-trainable params: 3,592\n",
      "__________________________________________________________________________________________________\n"
     ]
    }
   ],
   "source": [
    "agent.model.summary()"
   ]
  },
  {
   "cell_type": "code",
   "execution_count": 9,
   "metadata": {},
   "outputs": [
    {
     "data": {
      "text/plain": [
       "array([1.09170166, 0.81121628, 0.86707277, 0.82973792, 0.81241372,\n",
       "       3.81859471])"
      ]
     },
     "execution_count": 9,
     "metadata": {},
     "output_type": "execute_result"
    }
   ],
   "source": [
    "cw = class_weight.compute_class_weight('balanced', np.unique(np.argmax(full_labels, axis=1)), np.argmax(full_labels, axis=1))\n",
    "cw"
   ]
  },
  {
   "cell_type": "code",
   "execution_count": null,
   "metadata": {},
   "outputs": [
    {
     "name": "stdout",
     "output_type": "stream",
     "text": [
      "Train on 1125567 samples, validate on 198630 samples\n",
      "Epoch 1/150\n",
      "1125567/1125567 [==============================] - 331s 294us/step - loss: 1.4917 - acc: 0.3917 - val_loss: 1.1795 - val_acc: 0.4485\n",
      "Epoch 2/150\n",
      "1125567/1125567 [==============================] - 314s 279us/step - loss: 1.1134 - acc: 0.4707 - val_loss: 1.1032 - val_acc: 0.4690\n",
      "Epoch 3/150\n",
      "1125567/1125567 [==============================] - 314s 279us/step - loss: 1.0606 - acc: 0.4952 - val_loss: 1.0772 - val_acc: 0.4811\n",
      "Epoch 4/150\n",
      "1125567/1125567 [==============================] - 313s 278us/step - loss: 1.0265 - acc: 0.5157 - val_loss: 1.0697 - val_acc: 0.4851\n",
      "Epoch 5/150\n",
      "1125567/1125567 [==============================] - 314s 279us/step - loss: 0.9947 - acc: 0.5364 - val_loss: 1.0628 - val_acc: 0.4884\n",
      "Epoch 6/150\n",
      "1125567/1125567 [==============================] - 314s 279us/step - loss: 0.9598 - acc: 0.5575 - val_loss: 1.0730 - val_acc: 0.4887\n",
      "Epoch 7/150\n",
      "1125567/1125567 [==============================] - 314s 279us/step - loss: 0.9217 - acc: 0.5800 - val_loss: 1.0892 - val_acc: 0.4882\n",
      "Epoch 8/150\n",
      "1125567/1125567 [==============================] - 314s 279us/step - loss: 0.8803 - acc: 0.6027 - val_loss: 1.1260 - val_acc: 0.4849\n",
      "Epoch 9/150\n",
      "1125567/1125567 [==============================] - 314s 279us/step - loss: 0.8354 - acc: 0.6263 - val_loss: 1.1644 - val_acc: 0.4844\n",
      "Epoch 10/150\n",
      "1125567/1125567 [==============================] - 314s 279us/step - loss: 0.7913 - acc: 0.6476 - val_loss: 1.2276 - val_acc: 0.4818\n",
      "Epoch 11/150\n",
      "1125567/1125567 [==============================] - 314s 279us/step - loss: 0.7493 - acc: 0.6682 - val_loss: 1.2764 - val_acc: 0.4803\n",
      "Epoch 12/150\n",
      "1125567/1125567 [==============================] - 314s 279us/step - loss: 0.7103 - acc: 0.6852 - val_loss: 1.3442 - val_acc: 0.4788\n",
      "Epoch 13/150\n",
      "1125567/1125567 [==============================] - 314s 279us/step - loss: 0.6765 - acc: 0.7005 - val_loss: 1.4217 - val_acc: 0.4780\n",
      "Epoch 14/150\n",
      "1125567/1125567 [==============================] - 314s 279us/step - loss: 0.6473 - acc: 0.7134 - val_loss: 1.4600 - val_acc: 0.4793\n",
      "Epoch 15/150\n",
      "1125567/1125567 [==============================] - 314s 279us/step - loss: 0.6229 - acc: 0.7240 - val_loss: 1.5312 - val_acc: 0.4748\n",
      "Epoch 16/150\n",
      "1125567/1125567 [==============================] - 313s 278us/step - loss: 0.6022 - acc: 0.7324 - val_loss: 1.5594 - val_acc: 0.4781\n",
      "Epoch 17/150\n",
      "1125567/1125567 [==============================] - 314s 279us/step - loss: 0.5844 - acc: 0.7402 - val_loss: 1.6381 - val_acc: 0.4774\n",
      "Epoch 18/150\n",
      "1125567/1125567 [==============================] - 314s 279us/step - loss: 0.5709 - acc: 0.7449 - val_loss: 1.6444 - val_acc: 0.4780\n",
      "Epoch 19/150\n",
      "1125567/1125567 [==============================] - 314s 279us/step - loss: 0.5594 - acc: 0.7498 - val_loss: 1.7212 - val_acc: 0.4723\n",
      "Epoch 20/150\n",
      "1125567/1125567 [==============================] - 314s 279us/step - loss: 0.5496 - acc: 0.7536 - val_loss: 1.7618 - val_acc: 0.4737\n",
      "Epoch 21/150\n",
      "1125567/1125567 [==============================] - 314s 279us/step - loss: 0.5409 - acc: 0.7566 - val_loss: 1.7111 - val_acc: 0.4780\n",
      "Epoch 22/150\n",
      "1125567/1125567 [==============================] - 314s 279us/step - loss: 0.5330 - acc: 0.7600 - val_loss: 1.8004 - val_acc: 0.4754\n",
      "Epoch 23/150\n",
      "1125567/1125567 [==============================] - 314s 279us/step - loss: 0.5267 - acc: 0.7624 - val_loss: 1.7836 - val_acc: 0.4757\n",
      "Epoch 24/150\n",
      "1125567/1125567 [==============================] - 314s 279us/step - loss: 0.5222 - acc: 0.7639 - val_loss: 1.8253 - val_acc: 0.4747\n",
      "Epoch 25/150\n",
      "1125567/1125567 [==============================] - 314s 279us/step - loss: 0.5162 - acc: 0.7661 - val_loss: 1.8680 - val_acc: 0.4725\n",
      "Epoch 26/150\n",
      "1125567/1125567 [==============================] - 314s 279us/step - loss: 0.5111 - acc: 0.7677 - val_loss: 1.9209 - val_acc: 0.4721\n",
      "Epoch 27/150\n",
      "1125567/1125567 [==============================] - 314s 279us/step - loss: 0.5077 - acc: 0.7692 - val_loss: 1.8405 - val_acc: 0.4732\n",
      "Epoch 28/150\n",
      "1125567/1125567 [==============================] - 315s 280us/step - loss: 0.5041 - acc: 0.7704 - val_loss: 1.9126 - val_acc: 0.4754\n",
      "Epoch 29/150\n",
      "1125567/1125567 [==============================] - 315s 280us/step - loss: 0.5002 - acc: 0.7717 - val_loss: 1.9388 - val_acc: 0.4752\n",
      "Epoch 30/150\n",
      "1125567/1125567 [==============================] - 314s 279us/step - loss: 0.4970 - acc: 0.7730 - val_loss: 1.9941 - val_acc: 0.4713\n",
      "Epoch 31/150\n",
      "1125567/1125567 [==============================] - 314s 279us/step - loss: 0.4944 - acc: 0.7737 - val_loss: 1.9773 - val_acc: 0.4723\n",
      "Epoch 32/150\n",
      "1125567/1125567 [==============================] - 314s 279us/step - loss: 0.4905 - acc: 0.7750 - val_loss: 1.9576 - val_acc: 0.4738\n",
      "Epoch 33/150\n",
      "1125567/1125567 [==============================] - 315s 280us/step - loss: 0.4875 - acc: 0.7762 - val_loss: 2.0414 - val_acc: 0.4700\n",
      "Epoch 34/150\n",
      "1125567/1125567 [==============================] - 315s 280us/step - loss: 0.4854 - acc: 0.7766 - val_loss: 1.9897 - val_acc: 0.4753\n",
      "Epoch 35/150\n",
      "1125567/1125567 [==============================] - 314s 279us/step - loss: 0.4844 - acc: 0.7770 - val_loss: 1.9798 - val_acc: 0.4720\n",
      "Epoch 36/150\n",
      "1125567/1125567 [==============================] - 314s 279us/step - loss: 0.4814 - acc: 0.7781 - val_loss: 2.0258 - val_acc: 0.4735\n",
      "Epoch 37/150\n",
      "1125567/1125567 [==============================] - 315s 279us/step - loss: 0.4787 - acc: 0.7789 - val_loss: 2.0713 - val_acc: 0.4707\n",
      "Epoch 38/150\n",
      "1125567/1125567 [==============================] - 315s 279us/step - loss: 0.4766 - acc: 0.7797 - val_loss: 1.9922 - val_acc: 0.4734\n",
      "Epoch 39/150\n",
      "1125567/1125567 [==============================] - 314s 279us/step - loss: 0.4748 - acc: 0.7799 - val_loss: 2.0792 - val_acc: 0.4729\n",
      "Epoch 40/150\n",
      "1125567/1125567 [==============================] - 314s 279us/step - loss: 0.4744 - acc: 0.7802 - val_loss: 2.0275 - val_acc: 0.4759\n",
      "Epoch 41/150\n",
      "1125567/1125567 [==============================] - 314s 279us/step - loss: 0.4721 - acc: 0.7808 - val_loss: 2.0450 - val_acc: 0.4730\n",
      "Epoch 42/150\n",
      " 778240/1125567 [===================>..........] - ETA: 1:30 - loss: 0.4615 - acc: 0.7860"
     ]
    }
   ],
   "source": [
    "agent.train(full_obs, full_labels, batch_size=batch_size, epochs=epochs, early_stopping=early_stopping,\n",
    "           class_weight=cw)"
   ]
  },
  {
   "cell_type": "code",
   "execution_count": null,
   "metadata": {},
   "outputs": [],
   "source": [
    "print(\"finish\")"
   ]
  },
  {
   "cell_type": "code",
   "execution_count": null,
   "metadata": {},
   "outputs": [],
   "source": [
    "agent.model.save(model_path)"
   ]
  }
 ],
 "metadata": {
  "kernelspec": {
   "display_name": "Python 3",
   "language": "python",
   "name": "python3"
  },
  "language_info": {
   "codemirror_mode": {
    "name": "ipython",
    "version": 3
   },
   "file_extension": ".py",
   "mimetype": "text/x-python",
   "name": "python",
   "nbconvert_exporter": "python",
   "pygments_lexer": "ipython3",
   "version": "3.6.5"
  }
 },
 "nbformat": 4,
 "nbformat_minor": 2
}
