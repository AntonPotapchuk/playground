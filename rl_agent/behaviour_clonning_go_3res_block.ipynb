{
 "cells": [
  {
   "cell_type": "code",
   "execution_count": 1,
   "metadata": {},
   "outputs": [
    {
     "name": "stderr",
     "output_type": "stream",
     "text": [
      "/gpfs/hpchome/anton95/.conda/envs/pommerman/lib/python3.6/site-packages/h5py/__init__.py:36: FutureWarning: Conversion of the second argument of issubdtype from `float` to `np.floating` is deprecated. In future, it will be treated as `np.float64 == np.dtype(float).type`.\n",
      "  from ._conv import register_converters as _register_converters\n",
      "Using TensorFlow backend.\n",
      "/gpfs/hpchome/anton95/.conda/envs/pommerman/lib/python3.6/importlib/_bootstrap.py:219: RuntimeWarning: compiletime version 3.5 of module 'tensorflow.python.framework.fast_tensor_util' does not match runtime version 3.6\n",
      "  return f(*args, **kwds)\n"
     ]
    },
    {
     "name": "stdout",
     "output_type": "stream",
     "text": [
      "Import error! You will not be able to render --> Cannot connect to \"None\"\n"
     ]
    }
   ],
   "source": [
    "import numpy as np\n",
    "import os\n",
    "\n",
    "from keras.callbacks import EarlyStopping, ModelCheckpoint, ReduceLROnPlateau, CSVLogger, TensorBoard\n",
    "from keras.layers import Input, Dense, Flatten, Convolution2D, BatchNormalization, Activation, Add\n",
    "from keras.models import Model\n",
    "from keras.utils import to_categorical\n",
    "from keras import backend as K\n",
    "from pommerman.constants import BOARD_SIZE\n",
    "from tqdm import tqdm_notebook as tqdm\n",
    "from sklearn.utils.class_weight import compute_class_weight"
   ]
  },
  {
   "cell_type": "code",
   "execution_count": 2,
   "metadata": {},
   "outputs": [],
   "source": [
    "batch_size = 2048\n",
    "epochs = 150\n",
    "early_stopping = 5\n",
    "action_space = 6\n",
    "\n",
    "log_path = './supervised_learning/logs/go_3res_block/'\n",
    "model_path = './supervised_learning/model/go_3res_block/model.h4'\n",
    "\n",
    "train_data_path    = './dataset/'\n",
    "train_data_labels  = os.path.join(train_data_path, 'labels.npy')\n",
    "train_data_reward  = os.path.join(train_data_path, 'reward.npy')\n",
    "train_data_obs_map = os.path.join(train_data_path, 'obs_map.npy')\n",
    "\n",
    "if not os.path.isdir(train_data_path):\n",
    "    os.makedirs(train_data_path)"
   ]
  },
  {
   "cell_type": "code",
   "execution_count": 3,
   "metadata": {},
   "outputs": [],
   "source": [
    "class Trainer:\n",
    "    def __init__(self, actions, save_path, log_path, save_best_only=True, seed=0):\n",
    "        K.clear_session()\n",
    "        self.log_path = log_path\n",
    "        self.save_path = save_path\n",
    "        self.actions = actions\n",
    "        self.save_best_only = save_best_only\n",
    "        \n",
    "        # Create model\n",
    "        self.model = self.create_model(actions)\n",
    "        # Load model if exists\n",
    "        if not os.path.isdir(os.path.dirname(save_path)):\n",
    "            os.makedirs(os.path.dirname(save_path))            \n",
    "        if os.path.isfile(self.save_path):\n",
    "            try:\n",
    "                print(\"Trying to load model\")\n",
    "                self.model.load_weights(self.save_path)\n",
    "                print(\"Model was loaded successful\")\n",
    "            except:\n",
    "                print(\"Model load failed\")\n",
    "        \n",
    "    def get_res_block(self, input):\n",
    "        # Res block 1        \n",
    "        x = Convolution2D(256, 3, padding='same')(input)\n",
    "        x = BatchNormalization()(x)\n",
    "        x = Activation('relu')(x)\n",
    "        x = Convolution2D(256, 3, padding='same')(x)\n",
    "        x = BatchNormalization()(x)\n",
    "        x = Add()([input, x])\n",
    "        x = Activation('relu')(x)\n",
    "        return x\n",
    "        \n",
    "    def create_model(self, actions, input_shape=(11, 11, 18,)):\n",
    "        inp = Input(input_shape)\n",
    "        x = Convolution2D(256, 3, padding='same')(inp)\n",
    "        x = BatchNormalization()(x)\n",
    "        x = Activation('relu')(x)\n",
    "        \n",
    "        # 3 residual blocks\n",
    "        for i in range(3):\n",
    "            x = self.get_res_block(x)\n",
    "        \n",
    "        # Output block\n",
    "        # Should be 2 filters\n",
    "        x = Convolution2D(2, 1, padding='same')(x)\n",
    "        x = BatchNormalization()(x)   \n",
    "        x = Activation('relu')(x)\n",
    "        x = Flatten()(x)  \n",
    "        \n",
    "        probs  = Dense(actions, activation='softmax', name='actions')(x)\n",
    "        reward = Dense(1, name='reward')(x)\n",
    "        \n",
    "        model = Model(inputs = inp, outputs=[probs, reward])\n",
    "        model.compile(optimizer='adam', loss=['categorical_crossentropy', 'mae'], metrics=['accuracy'])\n",
    "        return model\n",
    "\n",
    "    def train(self, obs, actions, rewards, batch_size=16384, epochs=100,\n",
    "              early_stopping = 10, class_weight=None, initial_epoch=0):\n",
    "        \n",
    "        early_stopping = EarlyStopping(monitor='loss', patience=early_stopping)\n",
    "        checkpoint     = ModelCheckpoint(self.save_path, monitor='loss', save_best_only=self.save_best_only)\n",
    "        reduce_lr      = ReduceLROnPlateau(monitor='loss', patience=2, factor=0.1)\n",
    "        logger         = CSVLogger(self.log_path + 'log.csv', append=True)\n",
    "        tensorboard    = TensorBoard(self.log_path, batch_size=batch_size)\n",
    "        \n",
    "        history = self.model.fit(x=obs, y=[actions, rewards], batch_size=batch_size, epochs=epochs, verbose=1,\n",
    "                       callbacks=[early_stopping, checkpoint, reduce_lr, logger, tensorboard],\n",
    "                       validation_split=0.15, shuffle=True, class_weight=class_weight, initial_epoch=initial_epoch)"
   ]
  },
  {
   "cell_type": "code",
   "execution_count": 4,
   "metadata": {},
   "outputs": [],
   "source": [
    "labels       = np.load(train_data_labels)\n",
    "observations = np.load(train_data_obs_map)\n",
    "rewards      = np.load(train_data_reward)"
   ]
  },
  {
   "cell_type": "code",
   "execution_count": 5,
   "metadata": {},
   "outputs": [],
   "source": [
    "labels = to_categorical(labels, num_classes=action_space)"
   ]
  },
  {
   "cell_type": "code",
   "execution_count": 6,
   "metadata": {},
   "outputs": [
    {
     "data": {
      "text/plain": [
       "((553065, 6), (553065, 11, 11, 18), (553065,))"
      ]
     },
     "execution_count": 6,
     "metadata": {},
     "output_type": "execute_result"
    }
   ],
   "source": [
    "labels.shape, observations.shape, rewards.shape"
   ]
  },
  {
   "cell_type": "code",
   "execution_count": 7,
   "metadata": {},
   "outputs": [
    {
     "data": {
      "text/plain": [
       "array([0.15941164, 0.20397964, 0.190945  , 0.20009764, 0.20339382,\n",
       "       0.04217226], dtype=float32)"
      ]
     },
     "execution_count": 7,
     "metadata": {},
     "output_type": "execute_result"
    }
   ],
   "source": [
    "np.sum(labels, axis=0) / np.sum(labels)"
   ]
  },
  {
   "cell_type": "code",
   "execution_count": 8,
   "metadata": {},
   "outputs": [
    {
     "data": {
      "text/plain": [
       "array([1.04551126, 0.81707501, 0.87285166, 0.83292671, 0.81942839,\n",
       "       3.9520451 ])"
      ]
     },
     "execution_count": 8,
     "metadata": {},
     "output_type": "execute_result"
    }
   ],
   "source": [
    "class_weights = compute_class_weight('balanced', np.unique(np.argmax(labels, axis=1)), np.argmax(labels, axis=1))\n",
    "class_weights"
   ]
  },
  {
   "cell_type": "code",
   "execution_count": 9,
   "metadata": {},
   "outputs": [],
   "source": [
    "trainer = Trainer(action_space, model_path, log_path)"
   ]
  },
  {
   "cell_type": "code",
   "execution_count": 10,
   "metadata": {},
   "outputs": [
    {
     "name": "stdout",
     "output_type": "stream",
     "text": [
      "__________________________________________________________________________________________________\n",
      "Layer (type)                    Output Shape         Param #     Connected to                     \n",
      "==================================================================================================\n",
      "input_1 (InputLayer)            (None, 11, 11, 18)   0                                            \n",
      "__________________________________________________________________________________________________\n",
      "conv2d_1 (Conv2D)               (None, 11, 11, 256)  41728       input_1[0][0]                    \n",
      "__________________________________________________________________________________________________\n",
      "batch_normalization_1 (BatchNor (None, 11, 11, 256)  1024        conv2d_1[0][0]                   \n",
      "__________________________________________________________________________________________________\n",
      "activation_1 (Activation)       (None, 11, 11, 256)  0           batch_normalization_1[0][0]      \n",
      "__________________________________________________________________________________________________\n",
      "conv2d_2 (Conv2D)               (None, 11, 11, 256)  590080      activation_1[0][0]               \n",
      "__________________________________________________________________________________________________\n",
      "batch_normalization_2 (BatchNor (None, 11, 11, 256)  1024        conv2d_2[0][0]                   \n",
      "__________________________________________________________________________________________________\n",
      "activation_2 (Activation)       (None, 11, 11, 256)  0           batch_normalization_2[0][0]      \n",
      "__________________________________________________________________________________________________\n",
      "conv2d_3 (Conv2D)               (None, 11, 11, 256)  590080      activation_2[0][0]               \n",
      "__________________________________________________________________________________________________\n",
      "batch_normalization_3 (BatchNor (None, 11, 11, 256)  1024        conv2d_3[0][0]                   \n",
      "__________________________________________________________________________________________________\n",
      "add_1 (Add)                     (None, 11, 11, 256)  0           activation_1[0][0]               \n",
      "                                                                 batch_normalization_3[0][0]      \n",
      "__________________________________________________________________________________________________\n",
      "activation_3 (Activation)       (None, 11, 11, 256)  0           add_1[0][0]                      \n",
      "__________________________________________________________________________________________________\n",
      "conv2d_4 (Conv2D)               (None, 11, 11, 256)  590080      activation_3[0][0]               \n",
      "__________________________________________________________________________________________________\n",
      "batch_normalization_4 (BatchNor (None, 11, 11, 256)  1024        conv2d_4[0][0]                   \n",
      "__________________________________________________________________________________________________\n",
      "activation_4 (Activation)       (None, 11, 11, 256)  0           batch_normalization_4[0][0]      \n",
      "__________________________________________________________________________________________________\n",
      "conv2d_5 (Conv2D)               (None, 11, 11, 256)  590080      activation_4[0][0]               \n",
      "__________________________________________________________________________________________________\n",
      "batch_normalization_5 (BatchNor (None, 11, 11, 256)  1024        conv2d_5[0][0]                   \n",
      "__________________________________________________________________________________________________\n",
      "add_2 (Add)                     (None, 11, 11, 256)  0           activation_3[0][0]               \n",
      "                                                                 batch_normalization_5[0][0]      \n",
      "__________________________________________________________________________________________________\n",
      "activation_5 (Activation)       (None, 11, 11, 256)  0           add_2[0][0]                      \n",
      "__________________________________________________________________________________________________\n",
      "conv2d_6 (Conv2D)               (None, 11, 11, 256)  590080      activation_5[0][0]               \n",
      "__________________________________________________________________________________________________\n",
      "batch_normalization_6 (BatchNor (None, 11, 11, 256)  1024        conv2d_6[0][0]                   \n",
      "__________________________________________________________________________________________________\n",
      "activation_6 (Activation)       (None, 11, 11, 256)  0           batch_normalization_6[0][0]      \n",
      "__________________________________________________________________________________________________\n",
      "conv2d_7 (Conv2D)               (None, 11, 11, 256)  590080      activation_6[0][0]               \n",
      "__________________________________________________________________________________________________\n",
      "batch_normalization_7 (BatchNor (None, 11, 11, 256)  1024        conv2d_7[0][0]                   \n",
      "__________________________________________________________________________________________________\n",
      "add_3 (Add)                     (None, 11, 11, 256)  0           activation_5[0][0]               \n",
      "                                                                 batch_normalization_7[0][0]      \n",
      "__________________________________________________________________________________________________\n",
      "activation_7 (Activation)       (None, 11, 11, 256)  0           add_3[0][0]                      \n",
      "__________________________________________________________________________________________________\n",
      "conv2d_8 (Conv2D)               (None, 11, 11, 2)    514         activation_7[0][0]               \n",
      "__________________________________________________________________________________________________\n",
      "batch_normalization_8 (BatchNor (None, 11, 11, 2)    8           conv2d_8[0][0]                   \n",
      "__________________________________________________________________________________________________\n",
      "activation_8 (Activation)       (None, 11, 11, 2)    0           batch_normalization_8[0][0]      \n",
      "__________________________________________________________________________________________________\n",
      "flatten_1 (Flatten)             (None, 242)          0           activation_8[0][0]               \n",
      "__________________________________________________________________________________________________\n",
      "actions (Dense)                 (None, 6)            1458        flatten_1[0][0]                  \n",
      "__________________________________________________________________________________________________\n",
      "reward (Dense)                  (None, 1)            243         flatten_1[0][0]                  \n",
      "==================================================================================================\n",
      "Total params: 3,591,599\n",
      "Trainable params: 3,588,011\n",
      "Non-trainable params: 3,588\n",
      "__________________________________________________________________________________________________\n"
     ]
    }
   ],
   "source": [
    "trainer.model.summary()"
   ]
  },
  {
   "cell_type": "code",
   "execution_count": null,
   "metadata": {},
   "outputs": [
    {
     "name": "stdout",
     "output_type": "stream",
     "text": [
      "Train on 470105 samples, validate on 82960 samples\n",
      "Epoch 1/150\n",
      "470105/470105 [==============================] - 215s 458us/step - loss: 2.1607 - actions_loss: 1.6389 - reward_loss: 0.5218 - actions_acc: 0.2584 - reward_acc: 0.7450 - val_loss: 2.1421 - val_actions_loss: 1.6203 - val_reward_loss: 0.5218 - val_actions_acc: 0.2670 - val_reward_acc: 0.7480\n",
      "Epoch 2/150\n",
      "470105/470105 [==============================] - 363s 772us/step - loss: 1.9964 - actions_loss: 1.4811 - reward_loss: 0.5153 - actions_acc: 0.3287 - reward_acc: 0.7543 - val_loss: 1.9085 - val_actions_loss: 1.3620 - val_reward_loss: 0.5464 - val_actions_acc: 0.3902 - val_reward_acc: 0.7480\n",
      "Epoch 3/150\n",
      "470105/470105 [==============================] - 372s 791us/step - loss: 1.6239 - actions_loss: 1.1300 - reward_loss: 0.4938 - actions_acc: 0.4970 - reward_acc: 0.7514 - val_loss: 1.7734 - val_actions_loss: 1.0675 - val_reward_loss: 0.7059 - val_actions_acc: 0.5373 - val_reward_acc: 0.5125\n",
      "Epoch 4/150\n",
      "470105/470105 [==============================] - 370s 788us/step - loss: 1.2528 - actions_loss: 0.8969 - reward_loss: 0.3560 - actions_acc: 0.5932 - reward_acc: 0.8132 - val_loss: 1.6695 - val_actions_loss: 0.9206 - val_reward_loss: 0.7489 - val_actions_acc: 0.5897 - val_reward_acc: 0.4182\n",
      "Epoch 5/150\n",
      "470105/470105 [==============================] - 372s 791us/step - loss: 1.0822 - actions_loss: 0.8171 - reward_loss: 0.2651 - actions_acc: 0.6203 - reward_acc: 0.8773 - val_loss: 1.5518 - val_actions_loss: 0.8373 - val_reward_loss: 0.7145 - val_actions_acc: 0.6159 - val_reward_acc: 0.5191\n",
      "Epoch 6/150\n",
      "470105/470105 [==============================] - 372s 791us/step - loss: 0.9852 - actions_loss: 0.7805 - reward_loss: 0.2047 - actions_acc: 0.6333 - reward_acc: 0.9132 - val_loss: 1.5844 - val_actions_loss: 0.8498 - val_reward_loss: 0.7346 - val_actions_acc: 0.6023 - val_reward_acc: 0.5160\n",
      "Epoch 7/150\n",
      "470105/470105 [==============================] - 372s 791us/step - loss: 0.9119 - actions_loss: 0.7564 - reward_loss: 0.1555 - actions_acc: 0.6417 - reward_acc: 0.9375 - val_loss: 1.5437 - val_actions_loss: 0.8048 - val_reward_loss: 0.7389 - val_actions_acc: 0.6176 - val_reward_acc: 0.5345\n",
      "Epoch 8/150\n",
      "470105/470105 [==============================] - 369s 785us/step - loss: 0.8547 - actions_loss: 0.7372 - reward_loss: 0.1175 - actions_acc: 0.6491 - reward_acc: 0.9562 - val_loss: 1.5516 - val_actions_loss: 0.8069 - val_reward_loss: 0.7447 - val_actions_acc: 0.6196 - val_reward_acc: 0.5505\n",
      "Epoch 9/150\n",
      "470105/470105 [==============================] - 369s 785us/step - loss: 0.8171 - actions_loss: 0.7237 - reward_loss: 0.0934 - actions_acc: 0.6556 - reward_acc: 0.9683 - val_loss: 1.4821 - val_actions_loss: 0.7855 - val_reward_loss: 0.6967 - val_actions_acc: 0.6231 - val_reward_acc: 0.5887\n",
      "Epoch 10/150\n",
      "470105/470105 [==============================] - 367s 782us/step - loss: 0.7851 - actions_loss: 0.7111 - reward_loss: 0.0740 - actions_acc: 0.6612 - reward_acc: 0.9767 - val_loss: 1.5404 - val_actions_loss: 0.7905 - val_reward_loss: 0.7499 - val_actions_acc: 0.6286 - val_reward_acc: 0.5655\n",
      "Epoch 11/150\n",
      "470105/470105 [==============================] - 364s 774us/step - loss: 0.7627 - actions_loss: 0.6967 - reward_loss: 0.0660 - actions_acc: 0.6693 - reward_acc: 0.9806 - val_loss: 1.4825 - val_actions_loss: 0.7705 - val_reward_loss: 0.7120 - val_actions_acc: 0.6363 - val_reward_acc: 0.5880\n",
      "Epoch 12/150\n",
      "470105/470105 [==============================] - 370s 786us/step - loss: 0.7419 - actions_loss: 0.6839 - reward_loss: 0.0580 - actions_acc: 0.6764 - reward_acc: 0.9830 - val_loss: 1.4714 - val_actions_loss: 0.7888 - val_reward_loss: 0.6827 - val_actions_acc: 0.6264 - val_reward_acc: 0.6094\n",
      "Epoch 13/150\n",
      "470105/470105 [==============================] - 376s 801us/step - loss: 0.7284 - actions_loss: 0.6725 - reward_loss: 0.0559 - actions_acc: 0.6827 - reward_acc: 0.9842 - val_loss: 1.4499 - val_actions_loss: 0.7908 - val_reward_loss: 0.6591 - val_actions_acc: 0.6289 - val_reward_acc: 0.6314\n",
      "Epoch 14/150\n",
      "470105/470105 [==============================] - 376s 800us/step - loss: 0.7126 - actions_loss: 0.6618 - reward_loss: 0.0508 - actions_acc: 0.6885 - reward_acc: 0.9855 - val_loss: 1.4703 - val_actions_loss: 0.7729 - val_reward_loss: 0.6974 - val_actions_acc: 0.6344 - val_reward_acc: 0.6002\n",
      "Epoch 15/150\n",
      "470105/470105 [==============================] - 368s 783us/step - loss: 0.6967 - actions_loss: 0.6481 - reward_loss: 0.0486 - actions_acc: 0.6977 - reward_acc: 0.9864 - val_loss: 1.4914 - val_actions_loss: 0.7825 - val_reward_loss: 0.7088 - val_actions_acc: 0.6346 - val_reward_acc: 0.5933\n",
      "Epoch 16/150\n",
      "470105/470105 [==============================] - 365s 776us/step - loss: 0.6813 - actions_loss: 0.6356 - reward_loss: 0.0458 - actions_acc: 0.7045 - reward_acc: 0.9868 - val_loss: 1.5401 - val_actions_loss: 0.8470 - val_reward_loss: 0.6931 - val_actions_acc: 0.6219 - val_reward_acc: 0.6100\n",
      "Epoch 17/150\n",
      "470105/470105 [==============================] - 364s 775us/step - loss: 0.6653 - actions_loss: 0.6207 - reward_loss: 0.0446 - actions_acc: 0.7135 - reward_acc: 0.9874 - val_loss: 1.4949 - val_actions_loss: 0.8023 - val_reward_loss: 0.6926 - val_actions_acc: 0.6277 - val_reward_acc: 0.6083\n",
      "Epoch 18/150\n",
      "470105/470105 [==============================] - 369s 785us/step - loss: 0.6491 - actions_loss: 0.6072 - reward_loss: 0.0420 - actions_acc: 0.7221 - reward_acc: 0.9880 - val_loss: 1.4472 - val_actions_loss: 0.8110 - val_reward_loss: 0.6362 - val_actions_acc: 0.6275 - val_reward_acc: 0.6499\n",
      "Epoch 19/150\n",
      "470105/470105 [==============================] - 355s 756us/step - loss: 0.6306 - actions_loss: 0.5901 - reward_loss: 0.0405 - actions_acc: 0.7306 - reward_acc: 0.9885 - val_loss: 1.5536 - val_actions_loss: 0.8393 - val_reward_loss: 0.7143 - val_actions_acc: 0.6170 - val_reward_acc: 0.6036\n",
      "Epoch 20/150\n",
      "470105/470105 [==============================] - 365s 776us/step - loss: 0.6119 - actions_loss: 0.5740 - reward_loss: 0.0379 - actions_acc: 0.7399 - reward_acc: 0.9890 - val_loss: 1.6329 - val_actions_loss: 0.9139 - val_reward_loss: 0.7190 - val_actions_acc: 0.6166 - val_reward_acc: 0.6048\n",
      "Epoch 21/150\n",
      "385024/470105 [=======================>......] - ETA: 1:02 - loss: 0.5938 - actions_loss: 0.5527 - reward_loss: 0.0411 - actions_acc: 0.7517 - reward_acc: 0.9895"
     ]
    }
   ],
   "source": [
    "trainer.train(observations, labels, rewards, batch_size=batch_size, \n",
    "              epochs=epochs, early_stopping=early_stopping, class_weight=[class_weights, 1])"
   ]
  },
  {
   "cell_type": "code",
   "execution_count": null,
   "metadata": {},
   "outputs": [],
   "source": [
    "print(\"finish\")"
   ]
  },
  {
   "cell_type": "code",
   "execution_count": null,
   "metadata": {},
   "outputs": [],
   "source": [
    "trainer.model.save(model_path)"
   ]
  }
 ],
 "metadata": {
  "kernelspec": {
   "display_name": "Python 3",
   "language": "python",
   "name": "python3"
  },
  "language_info": {
   "codemirror_mode": {
    "name": "ipython",
    "version": 3
   },
   "file_extension": ".py",
   "mimetype": "text/x-python",
   "name": "python",
   "nbconvert_exporter": "python",
   "pygments_lexer": "ipython3",
   "version": "3.6.5"
  }
 },
 "nbformat": 4,
 "nbformat_minor": 2
}
