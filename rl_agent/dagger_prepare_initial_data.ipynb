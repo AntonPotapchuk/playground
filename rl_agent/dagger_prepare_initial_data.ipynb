{
 "cells": [
  {
   "cell_type": "code",
   "execution_count": 27,
   "metadata": {},
   "outputs": [],
   "source": [
    "import numpy as np\n",
    "import os\n",
    "\n",
    "from keras.utils import to_categorical\n",
    "from pommerman.agents import SimpleAgent\n",
    "from pommerman.configs import ffa_competition_env\n",
    "from pommerman.envs.v0 import Pomme"
   ]
  },
  {
   "cell_type": "code",
   "execution_count": 28,
   "metadata": {},
   "outputs": [],
   "source": [
    "initial_rollouts = 1200\n",
    "train_data_path = './dagger/train_data/'\n",
    "train_data_obs = 'obs.npy'\n",
    "train_data_labels = 'labels.npy'\n",
    "train_data_reward = 'reward.npy'\n",
    "train_data_done = 'done.npy'\n",
    "if not os.path.isdir(train_data_path):\n",
    "    os.makedirs(train_data_path)"
   ]
  },
  {
   "cell_type": "code",
   "execution_count": 29,
   "metadata": {},
   "outputs": [],
   "source": [
    "# Environment wrapper\n",
    "class Stimulator:\n",
    "    def __init__(self, env, config):\n",
    "        self.env = env\n",
    "        self.init(config)\n",
    "        self.episode_number = 0\n",
    "\n",
    "    def init(self, config):\n",
    "        self.env.seed(0)\n",
    "        # Add 3 random agents\n",
    "        agents = []\n",
    "        for agent_id in range(4):\n",
    "            agents.append(SimpleAgent(config[\"agent\"](agent_id, config[\"game_type\"])))\n",
    "        self.env.set_agents(agents)\n",
    "        self.env.set_init_game_state(None)\n",
    "\n",
    "    def stimulate(self, num_rollouts, render=False, logging=False):\n",
    "        observations = []\n",
    "        actions = []\n",
    "        dones = []\n",
    "        rewards = []\n",
    "\n",
    "        for i in range(num_rollouts):\n",
    "            self.episode_number += 1\n",
    "            obs = self.env.reset()\n",
    "            done = False\n",
    "            episode_steps = 0\n",
    "            \n",
    "            try:\n",
    "                episode_observations = []\n",
    "                episode_actions = []\n",
    "                episode_dones = []\n",
    "                episode_rewards = []\n",
    "                while not done:\n",
    "                    if render:\n",
    "                        self.env.render()\n",
    "                    all_actions = self.env.act(obs)\n",
    "                    obs, reward, done, _ = self.env.step(all_actions)\n",
    "                    episode_steps += 1\n",
    "\n",
    "                    episode_observations.append(obs)\n",
    "                    episode_actions.append(all_actions)\n",
    "                    episode_rewards.append(reward)\n",
    "                    episode_dones.append(done)\n",
    "            except:\n",
    "                print(\"Error occurs\")\n",
    "                i -= 1\n",
    "                continue\n",
    "            \n",
    "            observations.extend(episode_observations)\n",
    "            actions.extend(episode_actions)\n",
    "            dones.extend(episode_dones)\n",
    "            rewards.extend(episode_rewards)\n",
    "            print('rollout %i/%i' % (i + 1, num_rollouts))\n",
    "        return np.array(observations), np.array(to_categorical(actions, self.env.action_space.n)), np.array(rewards), np.array(dones)\n"
   ]
  },
  {
   "cell_type": "code",
   "execution_count": 30,
   "metadata": {},
   "outputs": [
    {
     "name": "stdout",
     "output_type": "stream",
     "text": [
      "\u001b[33mWARN: gym.spaces.Box autodetected dtype as <class 'numpy.float32'>. Please provide explicit dtype.\u001b[0m\n"
     ]
    }
   ],
   "source": [
    "# Instantiate the environment\n",
    "config = ffa_competition_env()\n",
    "env = Pomme(**config[\"env_kwargs\"])"
   ]
  },
  {
   "cell_type": "code",
   "execution_count": null,
   "metadata": {
    "scrolled": true
   },
   "outputs": [
    {
     "name": "stdout",
     "output_type": "stream",
     "text": [
      "rollout 1/1200\n",
      "rollout 2/1200\n",
      "rollout 3/1200\n",
      "rollout 4/1200\n",
      "rollout 5/1200\n",
      "rollout 6/1200\n",
      "rollout 7/1200\n",
      "rollout 8/1200\n",
      "rollout 9/1200\n",
      "rollout 10/1200\n",
      "rollout 11/1200\n",
      "rollout 12/1200\n",
      "rollout 13/1200\n",
      "rollout 14/1200\n",
      "rollout 15/1200\n",
      "rollout 16/1200\n",
      "rollout 17/1200\n",
      "rollout 18/1200\n",
      "rollout 19/1200\n",
      "rollout 20/1200\n",
      "rollout 21/1200\n",
      "rollout 22/1200\n",
      "rollout 23/1200\n",
      "rollout 24/1200\n",
      "rollout 25/1200\n",
      "rollout 26/1200\n",
      "rollout 27/1200\n",
      "rollout 28/1200\n",
      "rollout 29/1200\n",
      "rollout 30/1200\n",
      "rollout 31/1200\n",
      "rollout 32/1200\n",
      "rollout 33/1200\n",
      "rollout 34/1200\n",
      "rollout 35/1200\n",
      "rollout 36/1200\n",
      "rollout 37/1200\n",
      "rollout 38/1200\n",
      "rollout 39/1200\n",
      "rollout 40/1200\n",
      "rollout 41/1200\n",
      "rollout 42/1200\n",
      "rollout 43/1200\n",
      "rollout 44/1200\n",
      "rollout 45/1200\n",
      "rollout 46/1200\n",
      "rollout 47/1200\n",
      "rollout 48/1200\n",
      "rollout 49/1200\n",
      "rollout 50/1200\n",
      "rollout 51/1200\n",
      "rollout 52/1200\n",
      "rollout 53/1200\n",
      "rollout 54/1200\n",
      "rollout 55/1200\n",
      "rollout 56/1200\n",
      "rollout 57/1200\n",
      "rollout 58/1200\n",
      "rollout 59/1200\n",
      "rollout 60/1200\n",
      "rollout 61/1200\n",
      "rollout 62/1200\n",
      "rollout 63/1200\n",
      "rollout 64/1200\n",
      "rollout 65/1200\n",
      "rollout 66/1200\n",
      "rollout 67/1200\n",
      "rollout 68/1200\n",
      "rollout 69/1200\n",
      "rollout 70/1200\n",
      "rollout 71/1200\n",
      "rollout 72/1200\n",
      "rollout 73/1200\n",
      "rollout 74/1200\n",
      "rollout 75/1200\n",
      "rollout 76/1200\n",
      "rollout 77/1200\n",
      "rollout 78/1200\n",
      "rollout 79/1200\n",
      "rollout 80/1200\n",
      "rollout 81/1200\n",
      "rollout 82/1200\n",
      "rollout 83/1200\n",
      "rollout 84/1200\n",
      "rollout 85/1200\n",
      "rollout 86/1200\n"
     ]
    }
   ],
   "source": [
    "# Generate training data\n",
    "stimulator = Stimulator(env, config)\n",
    "observations, actions, rewards, dones = stimulator.stimulate(num_rollouts=initial_rollouts)"
   ]
  },
  {
   "cell_type": "code",
   "execution_count": null,
   "metadata": {},
   "outputs": [],
   "source": [
    "np.save(train_data_path + train_data_obs, observations)\n",
    "np.save(train_data_path + train_data_labels, actions)\n",
    "np.save(train_data_path + train_data_reward, rewards)\n",
    "np.save(train_data_path + train_data_done, dones)\n",
    "\n",
    "#print(np.sum(training_data_labels, axis=0) / np.sum(training_data_labels))"
   ]
  },
  {
   "cell_type": "code",
   "execution_count": null,
   "metadata": {},
   "outputs": [],
   "source": [
    "observations.shape, actions.shape, rewards.shape, dones.shape"
   ]
  },
  {
   "cell_type": "code",
   "execution_count": null,
   "metadata": {},
   "outputs": [],
   "source": []
  }
 ],
 "metadata": {
  "kernelspec": {
   "display_name": "Python 3",
   "language": "python",
   "name": "python3"
  },
  "language_info": {
   "codemirror_mode": {
    "name": "ipython",
    "version": 3
   },
   "file_extension": ".py",
   "mimetype": "text/x-python",
   "name": "python",
   "nbconvert_exporter": "python",
   "pygments_lexer": "ipython3",
   "version": "3.6.5"
  }
 },
 "nbformat": 4,
 "nbformat_minor": 2
}
